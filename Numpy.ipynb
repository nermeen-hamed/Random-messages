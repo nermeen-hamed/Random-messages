{
  "nbformat": 4,
  "nbformat_minor": 0,
  "metadata": {
    "colab": {
      "name": "Numpy.ipynb",
      "provenance": [],
      "collapsed_sections": [
        "1EGh_IhdzwfV",
        "U7N400yj0ODB",
        "Zky-e1XP-sr4",
        "vP9v7wjuFu8J",
        "HS3DNjmMnaYR",
        "4Ely5txSSmUG",
        "RIvwOJuHgLTx",
        "rO9l59Msm-8b"
      ],
      "toc_visible": true
    },
    "kernelspec": {
      "name": "python3",
      "display_name": "Python 3"
    },
    "language_info": {
      "name": "python"
    }
  },
  "cells": [
    {
      "cell_type": "markdown",
      "source": [
        "#**why numby?!**"
      ],
      "metadata": {
        "id": "wy03nSIEDNwp"
      }
    },
    {
      "cell_type": "markdown",
      "source": [
        "NumPy arrays are faster and more compact than Python lists. An array consumes less memory and is convenient to use. NumPy uses much less memory to store data and it provides a mechanism of specifying the data types."
      ],
      "metadata": {
        "id": "ftc37Op7FC8d"
      }
    },
    {
      "cell_type": "markdown",
      "source": [
        "##**Data types  section**"
      ],
      "metadata": {
        "id": "1EGh_IhdzwfV"
      }
    },
    {
      "cell_type": "markdown",
      "source": [
        "Datatypes"
      ],
      "metadata": {
        "id": "4sMW5Gpbznyf"
      }
    },
    {
      "cell_type": "code",
      "source": [
        "dtypes = pd.DataFrame(\n",
        "    {\n",
        "        'Type': [\n",
        "            'int8', \n",
        "            'uint8', \n",
        "            'int16', \n",
        "            'uint16', \n",
        "            'int or int32', \n",
        "            'uint32', \n",
        "            'int64', \n",
        "            'uint64', \n",
        "            'float16', \n",
        "            'float32', \n",
        "            'float or float64',\n",
        "            'float128', \n",
        "            'complex64', \n",
        "            'complex or complex128', \n",
        "            'bool', \n",
        "            'object', \n",
        "            'string_',\n",
        "            'unicode_',\n",
        "        ],\n",
        "        \n",
        "        'Type Code': [\n",
        "            'i1', \n",
        "            'u1', \n",
        "            'i2', \n",
        "            'u2', \n",
        "            'i4 or i', \n",
        "            'u4', \n",
        "            'i8', \n",
        "            'u8', \n",
        "            'f2', \n",
        "            'f4 or f', \n",
        "            'f8 or d', \n",
        "            'f16 or g', \n",
        "            'c8', \n",
        "            'c16', \n",
        "            None, \n",
        "            'O', \n",
        "            'S', \n",
        "            'U',\n",
        "        ]\n",
        "    }\n",
        ")\n",
        "\n",
        "dtypes"
      ],
      "metadata": {
        "id": "91SOqI9Ilj9K",
        "colab": {
          "base_uri": "https://localhost:8080/",
          "height": 614
        },
        "outputId": "62a2c457-c851-4f3a-c416-91b383f168b8"
      },
      "execution_count": null,
      "outputs": [
        {
          "output_type": "execute_result",
          "data": {
            "text/html": [
              "\n",
              "  <div id=\"df-7f4c0198-9835-4dda-aed1-7d3847f0570b\">\n",
              "    <div class=\"colab-df-container\">\n",
              "      <div>\n",
              "<style scoped>\n",
              "    .dataframe tbody tr th:only-of-type {\n",
              "        vertical-align: middle;\n",
              "    }\n",
              "\n",
              "    .dataframe tbody tr th {\n",
              "        vertical-align: top;\n",
              "    }\n",
              "\n",
              "    .dataframe thead th {\n",
              "        text-align: right;\n",
              "    }\n",
              "</style>\n",
              "<table border=\"1\" class=\"dataframe\">\n",
              "  <thead>\n",
              "    <tr style=\"text-align: right;\">\n",
              "      <th></th>\n",
              "      <th>Type</th>\n",
              "      <th>Type Code</th>\n",
              "    </tr>\n",
              "  </thead>\n",
              "  <tbody>\n",
              "    <tr>\n",
              "      <th>0</th>\n",
              "      <td>int8</td>\n",
              "      <td>i1</td>\n",
              "    </tr>\n",
              "    <tr>\n",
              "      <th>1</th>\n",
              "      <td>uint8</td>\n",
              "      <td>u1</td>\n",
              "    </tr>\n",
              "    <tr>\n",
              "      <th>2</th>\n",
              "      <td>int16</td>\n",
              "      <td>i2</td>\n",
              "    </tr>\n",
              "    <tr>\n",
              "      <th>3</th>\n",
              "      <td>uint16</td>\n",
              "      <td>u2</td>\n",
              "    </tr>\n",
              "    <tr>\n",
              "      <th>4</th>\n",
              "      <td>int or int32</td>\n",
              "      <td>i4 or i</td>\n",
              "    </tr>\n",
              "    <tr>\n",
              "      <th>5</th>\n",
              "      <td>uint32</td>\n",
              "      <td>u4</td>\n",
              "    </tr>\n",
              "    <tr>\n",
              "      <th>6</th>\n",
              "      <td>int64</td>\n",
              "      <td>i8</td>\n",
              "    </tr>\n",
              "    <tr>\n",
              "      <th>7</th>\n",
              "      <td>uint64</td>\n",
              "      <td>u8</td>\n",
              "    </tr>\n",
              "    <tr>\n",
              "      <th>8</th>\n",
              "      <td>float16</td>\n",
              "      <td>f2</td>\n",
              "    </tr>\n",
              "    <tr>\n",
              "      <th>9</th>\n",
              "      <td>float32</td>\n",
              "      <td>f4 or f</td>\n",
              "    </tr>\n",
              "    <tr>\n",
              "      <th>10</th>\n",
              "      <td>float or float64</td>\n",
              "      <td>f8 or d</td>\n",
              "    </tr>\n",
              "    <tr>\n",
              "      <th>11</th>\n",
              "      <td>float128</td>\n",
              "      <td>f16 or g</td>\n",
              "    </tr>\n",
              "    <tr>\n",
              "      <th>12</th>\n",
              "      <td>complex64</td>\n",
              "      <td>c8</td>\n",
              "    </tr>\n",
              "    <tr>\n",
              "      <th>13</th>\n",
              "      <td>complex or complex128</td>\n",
              "      <td>c16</td>\n",
              "    </tr>\n",
              "    <tr>\n",
              "      <th>14</th>\n",
              "      <td>bool</td>\n",
              "      <td>None</td>\n",
              "    </tr>\n",
              "    <tr>\n",
              "      <th>15</th>\n",
              "      <td>object</td>\n",
              "      <td>O</td>\n",
              "    </tr>\n",
              "    <tr>\n",
              "      <th>16</th>\n",
              "      <td>string_</td>\n",
              "      <td>S</td>\n",
              "    </tr>\n",
              "    <tr>\n",
              "      <th>17</th>\n",
              "      <td>unicode_</td>\n",
              "      <td>U</td>\n",
              "    </tr>\n",
              "  </tbody>\n",
              "</table>\n",
              "</div>\n",
              "      <button class=\"colab-df-convert\" onclick=\"convertToInteractive('df-7f4c0198-9835-4dda-aed1-7d3847f0570b')\"\n",
              "              title=\"Convert this dataframe to an interactive table.\"\n",
              "              style=\"display:none;\">\n",
              "        \n",
              "  <svg xmlns=\"http://www.w3.org/2000/svg\" height=\"24px\"viewBox=\"0 0 24 24\"\n",
              "       width=\"24px\">\n",
              "    <path d=\"M0 0h24v24H0V0z\" fill=\"none\"/>\n",
              "    <path d=\"M18.56 5.44l.94 2.06.94-2.06 2.06-.94-2.06-.94-.94-2.06-.94 2.06-2.06.94zm-11 1L8.5 8.5l.94-2.06 2.06-.94-2.06-.94L8.5 2.5l-.94 2.06-2.06.94zm10 10l.94 2.06.94-2.06 2.06-.94-2.06-.94-.94-2.06-.94 2.06-2.06.94z\"/><path d=\"M17.41 7.96l-1.37-1.37c-.4-.4-.92-.59-1.43-.59-.52 0-1.04.2-1.43.59L10.3 9.45l-7.72 7.72c-.78.78-.78 2.05 0 2.83L4 21.41c.39.39.9.59 1.41.59.51 0 1.02-.2 1.41-.59l7.78-7.78 2.81-2.81c.8-.78.8-2.07 0-2.86zM5.41 20L4 18.59l7.72-7.72 1.47 1.35L5.41 20z\"/>\n",
              "  </svg>\n",
              "      </button>\n",
              "      \n",
              "  <style>\n",
              "    .colab-df-container {\n",
              "      display:flex;\n",
              "      flex-wrap:wrap;\n",
              "      gap: 12px;\n",
              "    }\n",
              "\n",
              "    .colab-df-convert {\n",
              "      background-color: #E8F0FE;\n",
              "      border: none;\n",
              "      border-radius: 50%;\n",
              "      cursor: pointer;\n",
              "      display: none;\n",
              "      fill: #1967D2;\n",
              "      height: 32px;\n",
              "      padding: 0 0 0 0;\n",
              "      width: 32px;\n",
              "    }\n",
              "\n",
              "    .colab-df-convert:hover {\n",
              "      background-color: #E2EBFA;\n",
              "      box-shadow: 0px 1px 2px rgba(60, 64, 67, 0.3), 0px 1px 3px 1px rgba(60, 64, 67, 0.15);\n",
              "      fill: #174EA6;\n",
              "    }\n",
              "\n",
              "    [theme=dark] .colab-df-convert {\n",
              "      background-color: #3B4455;\n",
              "      fill: #D2E3FC;\n",
              "    }\n",
              "\n",
              "    [theme=dark] .colab-df-convert:hover {\n",
              "      background-color: #434B5C;\n",
              "      box-shadow: 0px 1px 3px 1px rgba(0, 0, 0, 0.15);\n",
              "      filter: drop-shadow(0px 1px 2px rgba(0, 0, 0, 0.3));\n",
              "      fill: #FFFFFF;\n",
              "    }\n",
              "  </style>\n",
              "\n",
              "      <script>\n",
              "        const buttonEl =\n",
              "          document.querySelector('#df-7f4c0198-9835-4dda-aed1-7d3847f0570b button.colab-df-convert');\n",
              "        buttonEl.style.display =\n",
              "          google.colab.kernel.accessAllowed ? 'block' : 'none';\n",
              "\n",
              "        async function convertToInteractive(key) {\n",
              "          const element = document.querySelector('#df-7f4c0198-9835-4dda-aed1-7d3847f0570b');\n",
              "          const dataTable =\n",
              "            await google.colab.kernel.invokeFunction('convertToInteractive',\n",
              "                                                     [key], {});\n",
              "          if (!dataTable) return;\n",
              "\n",
              "          const docLinkHtml = 'Like what you see? Visit the ' +\n",
              "            '<a target=\"_blank\" href=https://colab.research.google.com/notebooks/data_table.ipynb>data table notebook</a>'\n",
              "            + ' to learn more about interactive tables.';\n",
              "          element.innerHTML = '';\n",
              "          dataTable['output_type'] = 'display_data';\n",
              "          await google.colab.output.renderOutput(dataTable, element);\n",
              "          const docLink = document.createElement('div');\n",
              "          docLink.innerHTML = docLinkHtml;\n",
              "          element.appendChild(docLink);\n",
              "        }\n",
              "      </script>\n",
              "    </div>\n",
              "  </div>\n",
              "  "
            ],
            "text/plain": [
              "                     Type Type Code\n",
              "0                    int8        i1\n",
              "1                   uint8        u1\n",
              "2                   int16        i2\n",
              "3                  uint16        u2\n",
              "4            int or int32   i4 or i\n",
              "5                  uint32        u4\n",
              "6                   int64        i8\n",
              "7                  uint64        u8\n",
              "8                 float16        f2\n",
              "9                 float32   f4 or f\n",
              "10       float or float64   f8 or d\n",
              "11               float128  f16 or g\n",
              "12              complex64        c8\n",
              "13  complex or complex128       c16\n",
              "14                   bool      None\n",
              "15                 object         O\n",
              "16                string_         S\n",
              "17               unicode_         U"
            ]
          },
          "metadata": {},
          "execution_count": 4
        }
      ]
    },
    {
      "cell_type": "code",
      "execution_count": null,
      "metadata": {
        "id": "k1lAYeOGlVAS"
      },
      "outputs": [],
      "source": [
        "import pandas as pd\n",
        "import numpy as np"
      ]
    },
    {
      "cell_type": "code",
      "source": [
        "arr = np.array([1,2,3,4,5]) #Crerating an array\n",
        "print(arr)"
      ],
      "metadata": {
        "id": "zZ8F5TeulYvC",
        "colab": {
          "base_uri": "https://localhost:8080/"
        },
        "outputId": "24831c7d-9120-4dee-fd5a-b745229ef08e"
      },
      "execution_count": null,
      "outputs": [
        {
          "output_type": "stream",
          "name": "stdout",
          "text": [
            "[1 2 3 4 5]\n"
          ]
        }
      ]
    },
    {
      "cell_type": "code",
      "source": [
        "arr = np.array([1,2,3], dtype='f4') #Creating an array with with type float f4 is type code \n",
        "arr.dtype \n",
        "#you can use np.(dataType)\n",
        "#arr = np.array([1+2j, 3-4j],dtype=np.float32)\n",
        "#arr.dtype \n"
      ],
      "metadata": {
        "id": "fFmS-XDhm9yV",
        "colab": {
          "base_uri": "https://localhost:8080/"
        },
        "outputId": "eeac04e6-5103-4eb5-a9e4-ec26d6f1408b"
      },
      "execution_count": null,
      "outputs": [
        {
          "output_type": "execute_result",
          "data": {
            "text/plain": [
              "dtype('float32')"
            ]
          },
          "metadata": {},
          "execution_count": 18
        }
      ]
    },
    {
      "cell_type": "code",
      "source": [
        ""
      ],
      "metadata": {
        "id": "iuF4xC5rnIxN"
      },
      "execution_count": null,
      "outputs": []
    },
    {
      "cell_type": "markdown",
      "source": [
        "**Notice**\n",
        "\n",
        "arr = np.array([1+2j, 3-4j], dtype=np.complex64)\n",
        "\n",
        "arr.dtype\n",
        "\n",
        "arr = np.array([1+2j, 3-4j], dtype='c8')\n",
        "\n",
        "arr.dtype\n",
        "\n",
        "the output of the above code is same **dtype('complex64')**\n",
        "\n",
        "\n",
        "arr = np.array([1+2j, 3-4j], dtype=np.c8)\n",
        "\n",
        "arr.dtype\n",
        "\n",
        "output of this code is \n",
        "\n",
        "**ُERROR (AttributeError: module 'numpy' has no attribute 'c8'**)"
      ],
      "metadata": {
        "id": "KGpgdu2Nohbn"
      }
    },
    {
      "cell_type": "markdown",
      "source": [
        "**Type Conversion**\n",
        "\n",
        "astype method: convert the data type of an array to other data types.\n",
        "\n",
        "Notice \n",
        "\n",
        "that astype returns a copy of the array instead of converting the data type in place. You need to assign the copy to the original array or a new array."
      ],
      "metadata": {
        "id": "GA4eemUnqLr_"
      }
    },
    {
      "cell_type": "code",
      "source": [
        "arr = np.array([1,2,3], dtype=np.int16)\n",
        "print(arr.dtype)\n",
        "\n",
        "arr = arr.astype(np.float32)\n",
        "print('Data Type After Conversion: ' + str(arr.dtype)) \n",
        "arr"
      ],
      "metadata": {
        "id": "1XZCA6qdnvnN",
        "colab": {
          "base_uri": "https://localhost:8080/"
        },
        "outputId": "ba2e325e-2124-4cdc-dc79-1dd2f7b98860"
      },
      "execution_count": null,
      "outputs": [
        {
          "output_type": "stream",
          "name": "stdout",
          "text": [
            "int16\n",
            "Data Type After Conversion: float32\n"
          ]
        },
        {
          "output_type": "execute_result",
          "data": {
            "text/plain": [
              "array([1., 2., 3.], dtype=float32)"
            ]
          },
          "metadata": {},
          "execution_count": 9
        }
      ]
    },
    {
      "cell_type": "code",
      "source": [
        "#WARNING: be cautious about data overflow when you downcast the data type\n",
        "#(from higher precision to lower precision). \n",
        "#Some unexpected and undefined values might occur and it is usually difficult to debug such issues.\n",
        "\n",
        "\n",
        "\n",
        "# An example of integer overflow at downcasting\n",
        "arr = np.array([126,127,256], dtype='int16')\n",
        "print('np array before type conversion: ' + str(arr))\n",
        "\n",
        "# Range of int8 [-128, 127], 256 overflows after conversion\n",
        "arr = arr.astype('int8')\n",
        "print('np array after type conversion: ' + str(arr))\n",
        "\n",
        "\n",
        "#overflow الملخص انه حصل\n",
        "#عشان حولنا من \n",
        "#int8 ل int16"
      ],
      "metadata": {
        "colab": {
          "base_uri": "https://localhost:8080/"
        },
        "id": "HPA5HilSoPSP",
        "outputId": "b64b4afd-7cb7-442d-fb0b-a74a36a66127"
      },
      "execution_count": null,
      "outputs": [
        {
          "output_type": "stream",
          "name": "stdout",
          "text": [
            "np array before type conversion: [126 127 256]\n",
            "np array after type conversion: [126 127   0]\n"
          ]
        }
      ]
    },
    {
      "cell_type": "code",
      "source": [
        ""
      ],
      "metadata": {
        "id": "9jkiOB-coRtk"
      },
      "execution_count": null,
      "outputs": []
    },
    {
      "cell_type": "markdown",
      "source": [
        "String and Unicode Data Type\n",
        "\n",
        "The string_ and unicode_ data types are all implicitly fixed-length.\n",
        "\n",
        "The length of the string is given by their type code appended with a number. \n",
        "\n",
        "For example, S3 represents string of length 3; U10 represents unicode of length 10. Otherwise, the default length is the length of the longest string in the array.\n",
        "\n",
        "If the length of a string in the array is shorter than the length of the data type defined or converted to, the string will be truncated."
      ],
      "metadata": {
        "id": "bJIAs3IAyvCk"
      }
    },
    {
      "cell_type": "code",
      "source": [
        "# An example of truncated string\n",
        "s = np.array(['abc', 'defg'], dtype='S4')\n",
        "print(s)\n",
        "\n",
        "# An example of truncated unicode\n",
        "s = np.array(['abcd', 'efghi'], dtype='U')\n",
        "print(s)"
      ],
      "metadata": {
        "colab": {
          "base_uri": "https://localhost:8080/"
        },
        "id": "W80j2bnYojco",
        "outputId": "e5bb9f67-0114-44a4-8394-246960e55df5"
      },
      "execution_count": null,
      "outputs": [
        {
          "output_type": "stream",
          "name": "stdout",
          "text": [
            "[b'abc' b'defg']\n",
            "['abcd' 'efghi']\n"
          ]
        }
      ]
    },
    {
      "cell_type": "code",
      "source": [
        "arr = np.array(['a', 'ab', 'abc'], dtype=np.string_)\n",
        "print('The array is ' + str(arr))\n",
        "print('The data type is ' + str(arr.dtype) + ' because the longest string in the array is \"abc\" and its length is 3.')\n",
        "\n",
        "arr = np.array(['a', 'abc', 'abcd'], dtype=np.unicode_)\n",
        "print('The array is ' + str(arr))\n",
        "print('The data type is ' + str(arr.dtype) + ' because the longest unicode in the array is \"abcd\" and its length is 4.')\n"
      ],
      "metadata": {
        "id": "9ei0Oymcort9",
        "colab": {
          "base_uri": "https://localhost:8080/"
        },
        "outputId": "125664e1-eb58-49c2-abff-014661f00ad6"
      },
      "execution_count": null,
      "outputs": [
        {
          "output_type": "stream",
          "name": "stdout",
          "text": [
            "The array is [b'a' b'ab' b'abc']\n",
            "The data type is |S3 because the longest string in the array is \"abc\" and its length is 3.\n",
            "The array is ['a' 'abc' 'abcd']\n",
            "The data type is <U4 because the longest unicode in the array is \"abcd\" and its length is 4.\n"
          ]
        }
      ]
    },
    {
      "cell_type": "code",
      "source": [
        ""
      ],
      "metadata": {
        "id": "gRCAKiKyzsU-"
      },
      "execution_count": null,
      "outputs": []
    },
    {
      "cell_type": "markdown",
      "source": [
        "##**Array section**"
      ],
      "metadata": {
        "id": "U7N400yj0ODB"
      }
    },
    {
      "cell_type": "markdown",
      "source": [
        "Create an array from an iterable\n",
        "Such as\n",
        "\n",
        "list\n",
        "\n",
        "tuple\n",
        "\n",
        "range iterator\n",
        "\n",
        "**Notice** that not all iterables can be used to create a numpy array, such as **set** and **dict**\n",
        "\n",
        "**Notice**\n",
        "\n",
        "**List []**\n",
        "1.   List items are ordered(**If you add new items to a list, the new items will be placed at the end of the list.**).\n",
        "2.   changeable(**The list is changeable, meaning that we can change, add, and remove items in a list after it has been created**.).\n",
        "3. Allow duplicate values.\n",
        "\n",
        "\n",
        "\n",
        "**Set {}**\n",
        "\n",
        "1.  Unordered\n",
        "2.  Unchangeable\n",
        "3.Duplicates Not Allowed\n",
        "\n",
        "\n",
        "\n",
        "**Tuple ()**\n",
        "\n",
        "\n",
        "\n",
        "1.   Ordered\n",
        "2.   Unchangeable\n",
        "3.   Allow Duplicates\n",
        "\n",
        "\n",
        "Dictionary{Key:value}\n",
        "\n",
        "     **1-Order**\n",
        "\n",
        "       As of Python version 3.7, dictionaries are ordered. In Python 3.6 and    earlier, dictionaries are unordered.\n",
        "\n",
        "     **2-changeable**\n",
        "\n",
        "     **3-Duplicates Not Allowed**\n",
        "\n",
        "     Dictionaries cannot have two items with the same key\n",
        "\n",
        "  \n",
        "\n",
        "\n",
        "\n",
        "\n",
        "\n",
        "\n",
        "\n",
        "              \n",
        "\n",
        "\n",
        "\n"
      ],
      "metadata": {
        "id": "X8FdWks6a_cS"
      }
    },
    {
      "cell_type": "code",
      "source": [
        ""
      ],
      "metadata": {
        "id": "xmv3oQbsDkKc"
      },
      "execution_count": null,
      "outputs": []
    },
    {
      "cell_type": "code",
      "source": [
        "#Examples\n",
        "arr = np.array([1,2,3,4,5])\n",
        "print(arr)\n",
        "arr = np.array((1,2,3,4,5))\n",
        "print(arr)\n",
        "arr = np.array(range(10))\n",
        "print(arr)"
      ],
      "metadata": {
        "colab": {
          "base_uri": "https://localhost:8080/"
        },
        "id": "c1jk1yO70ToJ",
        "outputId": "7f974d74-ec22-480b-c125-8058be311a9b"
      },
      "execution_count": null,
      "outputs": [
        {
          "output_type": "stream",
          "name": "stdout",
          "text": [
            "[1 2 3 4 5]\n",
            "[1 2 3 4 5]\n",
            "[0 1 2 3 4 5 6 7 8 9]\n"
          ]
        }
      ]
    },
    {
      "cell_type": "code",
      "source": [
        "arr = np.array([1,2,3], dtype='f4') #Creating an array with with type float f4 is type code \n",
        "print(arr)\n",
        "print('Data Type: ' + str(arr.dtype))\n",
        "#you can use np.(dataType)"
      ],
      "metadata": {
        "colab": {
          "base_uri": "https://localhost:8080/"
        },
        "id": "2eoq1pLZ1X6V",
        "outputId": "d81915fd-f203-4f10-f8df-157bb8325a19"
      },
      "execution_count": null,
      "outputs": [
        {
          "output_type": "stream",
          "name": "stdout",
          "text": [
            "[1. 2. 3.]\n",
            "Data Type: float32\n"
          ]
        }
      ]
    },
    {
      "cell_type": "code",
      "source": [
        "# np.arange(start, stop, step)\n",
        "arr = np.arange(0, 21, 2)  \n",
        "print(arr)"
      ],
      "metadata": {
        "colab": {
          "base_uri": "https://localhost:8080/"
        },
        "id": "FA23HdFm1xHD",
        "outputId": "059d54eb-2469-4916-8238-4f562b51ec0a"
      },
      "execution_count": null,
      "outputs": [
        {
          "output_type": "stream",
          "name": "stdout",
          "text": [
            "[ 0  2  4  6  8 10 12 14 16 18 20]\n"
          ]
        }
      ]
    },
    {
      "cell_type": "code",
      "source": [
        ""
      ],
      "metadata": {
        "id": "y4Vawfz73MUt"
      },
      "execution_count": null,
      "outputs": []
    },
    {
      "cell_type": "markdown",
      "source": [
        " **Create an array of evenly spaced numbers within specified range**\n",
        "\n",
        "np.linspace(start, stop, num_of_elements, endpoint=True, retstep=False) has 5 parameters:\n",
        "\n",
        "start: start number (inclusive)\n",
        "\n",
        "stop: end number (inclusive unless endpoint set to False)\n",
        "\n",
        "num_of_elements: number of elements contained in the array\n",
        "\n",
        "endpoint: boolean value representing whether the stop number is inclusive or not\n",
        "\n",
        "retstep: boolean value representing whether to return the step size\n",
        "\n",
        "\n",
        "\n"
      ],
      "metadata": {
        "id": "fo1xTsvY3cMa"
      }
    },
    {
      "cell_type": "code",
      "source": [
        "arr, step_size = np.linspace(0, 5, 8, endpoint=False, retstep=True)\n",
        "print(arr)\n",
        "print('The step size is ' + str(step_size))"
      ],
      "metadata": {
        "colab": {
          "base_uri": "https://localhost:8080/"
        },
        "id": "iM295qH23mvX",
        "outputId": "3a7a9793-d70c-490a-9d73-5a6a0592d3f3"
      },
      "execution_count": null,
      "outputs": [
        {
          "output_type": "stream",
          "name": "stdout",
          "text": [
            "[0.    0.625 1.25  1.875 2.5   3.125 3.75  4.375]\n",
            "The step size is 0.625\n"
          ]
        }
      ]
    },
    {
      "cell_type": "code",
      "source": [
        "arr = np.linspace(0, 5, 8, endpoint=True, retstep=False)\n",
        "print(arr)\n"
      ],
      "metadata": {
        "colab": {
          "base_uri": "https://localhost:8080/"
        },
        "id": "ErXFHvUu3nbJ",
        "outputId": "d911c6cb-4353-4409-9326-1059b2439cd9"
      },
      "execution_count": null,
      "outputs": [
        {
          "output_type": "stream",
          "name": "stdout",
          "text": [
            "[0.         0.71428571 1.42857143 2.14285714 2.85714286 3.57142857\n",
            " 4.28571429 5.        ]\n"
          ]
        }
      ]
    },
    {
      "cell_type": "markdown",
      "source": [
        "Create an array of random values of given shape\n",
        "\n",
        "np.random.rand() method returns values in the range [0,1)"
      ],
      "metadata": {
        "id": "RbwDeRYN5NDd"
      }
    },
    {
      "cell_type": "code",
      "source": [
        "arr = np.random.rand(3,4)\n",
        "print(arr)"
      ],
      "metadata": {
        "colab": {
          "base_uri": "https://localhost:8080/"
        },
        "id": "XIrsMzmD4EYp",
        "outputId": "29913dce-39b8-47e7-b303-00f376aaa372"
      },
      "execution_count": null,
      "outputs": [
        {
          "output_type": "stream",
          "name": "stdout",
          "text": [
            "[[0.28868831 0.87481845 0.5985185  0.03488039]\n",
            " [0.39544388 0.48465798 0.9914372  0.3235997 ]\n",
            " [0.11472229 0.10622935 0.81384408 0.04216096]]\n"
          ]
        }
      ]
    },
    {
      "cell_type": "code",
      "source": [
        ""
      ],
      "metadata": {
        "id": "OqflAmEh5VoA"
      },
      "execution_count": null,
      "outputs": []
    },
    {
      "cell_type": "markdown",
      "source": [
        " **Create an array of zeros of given shape**\n",
        "\n",
        "**np.zeros()**: create array of all zeros in given shape\n",
        "\n",
        "**np.zeros_like()**: create array of all zeros with the same shape \n",
        "\n",
        "and data type as the given input array\n",
        "\n",
        "**Create an array of ones of given shape**\n",
        "\n",
        "**np.ones()**: create array of all ones in given shape\n",
        "\n",
        "**np.ones_like()**: create array of all ones with the same shape and data type as the given input array\n"
      ],
      "metadata": {
        "id": "KE90IrzK5YhC"
      }
    },
    {
      "cell_type": "code",
      "source": [
        "zeros = np.zeros((2,3))\n",
        "print(zeros)"
      ],
      "metadata": {
        "colab": {
          "base_uri": "https://localhost:8080/"
        },
        "id": "tNv5t3To5kMl",
        "outputId": "7200a11f-4ec6-4e21-f646-08357a32f3bf"
      },
      "execution_count": null,
      "outputs": [
        {
          "output_type": "stream",
          "name": "stdout",
          "text": [
            "[[0. 0. 0.]\n",
            " [0. 0. 0.]]\n"
          ]
        }
      ]
    },
    {
      "cell_type": "code",
      "source": [
        "arr = np.array([[1,2], [3,4],[5,6]], dtype=np.int16)\n",
        "zeros = np.zeros_like(arr)\n",
        "print(zeros)\n",
        "print('Data Type: ' + str(zeros.dtype))"
      ],
      "metadata": {
        "colab": {
          "base_uri": "https://localhost:8080/"
        },
        "id": "CqQBeLL05qz2",
        "outputId": "544028bc-359b-4146-b344-4d77fdccaded"
      },
      "execution_count": null,
      "outputs": [
        {
          "output_type": "stream",
          "name": "stdout",
          "text": [
            "[[0 0]\n",
            " [0 0]\n",
            " [0 0]]\n",
            "Data Type: int16\n"
          ]
        }
      ]
    },
    {
      "cell_type": "code",
      "source": [
        ""
      ],
      "metadata": {
        "id": "8XE_A_lx5reQ"
      },
      "execution_count": null,
      "outputs": []
    },
    {
      "cell_type": "markdown",
      "source": [
        "**Create an empty array of given shape**\n",
        "\n",
        "**np.empty()**: create array of empty values in given shape\n",
        "\n",
        "**np.empty_like()**: create array of empty values with the same shape and data type as the given input array\n",
        "\n",
        "**Notice**\n",
        "\n",
        "that the initial values are not necessarily set to zeroes.\n",
        "\n",
        "They are just some garbage values in random memory addresses "
      ],
      "metadata": {
        "id": "stu8mh266Gds"
      }
    },
    {
      "cell_type": "code",
      "source": [
        "empty = np.empty((5,5))\n",
        "print(empty)\n",
        "\n",
        "print(\"---------------------------------------------------------\")\n",
        "\n",
        "arr = np.array([[1,2,3], [4,5,6]], dtype=np.int64)\n",
        "empty = np.empty_like(arr)\n",
        "print(empty)\n",
        "print('Data Type: ' + str(empty.dtype))"
      ],
      "metadata": {
        "colab": {
          "base_uri": "https://localhost:8080/"
        },
        "id": "Z2c2MaIN6VsD",
        "outputId": "407b9662-58d8-47f0-cc82-27581afb7476"
      },
      "execution_count": null,
      "outputs": [
        {
          "output_type": "stream",
          "name": "stdout",
          "text": [
            "[[4.67639118e-310 7.60861095e-322 0.00000000e+000 0.00000000e+000\n",
            "  0.00000000e+000]\n",
            " [1.16095484e-028 2.17237198e-153 4.83245960e+276 8.97600980e-096\n",
            "  3.77075671e+233]\n",
            " [1.96087885e+243 2.92158436e-014 2.59345444e+161 3.42703236e-062\n",
            "  4.07175424e+223]\n",
            " [9.15279752e+242 2.20132022e-152 1.96088859e+243 3.03837572e+180\n",
            "  3.77075632e+233]\n",
            " [1.96087885e+243 6.32672800e+180 4.74483502e+170 4.59210323e-072\n",
            "  1.58357921e-319]]\n",
            "---------------------------------------------------------\n",
            "[[1065353216 1073741824 1077936128]\n",
            " [1082130432 1084227584 1086324736]]\n",
            "Data Type: int64\n"
          ]
        }
      ]
    },
    {
      "cell_type": "markdown",
      "source": [
        "**Create an array of constant values of given shape**\n",
        "\n",
        "**np.full()**: create array of constant values in given shape\n",
        "\n",
        "**np.full_like()**: create array of constant values with the same shape and data type as the given input array"
      ],
      "metadata": {
        "id": "IiVWNrx-7BH8"
      }
    },
    {
      "cell_type": "code",
      "source": [
        "full = np.full((4,4), 5)\n",
        "print(full)\n",
        "\n",
        "print(\"---------------------------------------------------------\")\n",
        "\n",
        "arr = np.array([[1,2], [3,4]], dtype=np.float64)\n",
        "full = np.full_like(arr, 5)\n",
        "print(full)\n",
        "print('Data Type: ' + str(full.dtype))"
      ],
      "metadata": {
        "colab": {
          "base_uri": "https://localhost:8080/"
        },
        "id": "pYDYPSPu6v1j",
        "outputId": "d4bf5a19-2b68-44bb-ec99-afc6b14ffcd8"
      },
      "execution_count": null,
      "outputs": [
        {
          "output_type": "stream",
          "name": "stdout",
          "text": [
            "[[5 5 5 5]\n",
            " [5 5 5 5]\n",
            " [5 5 5 5]\n",
            " [5 5 5 5]]\n",
            "---------------------------------------------------------\n",
            "[[5. 5.]\n",
            " [5. 5.]]\n",
            "Data Type: float64\n"
          ]
        }
      ]
    },
    {
      "cell_type": "markdown",
      "source": [
        "**Create an array in a repetitive manner**\n",
        "\n",
        "np.repeat(iterable, reps, axis=None): repeat each element by n times\n",
        "\n",
        "iterable: input array\n",
        "\n",
        "reps: number of repetitions\n",
        "\n",
        "axis: which axis to repeat along, default is None which will flatten the input array and then repeat\n",
        "\n",
        "np.tile(): repeat the whole array by n times\n",
        "\n",
        "iterable: input array\n",
        "\n",
        "reps: number of repetitions, it can be a tuple to represent repetitions along x-axis and y-axis"
      ],
      "metadata": {
        "id": "II58OUKy7r01"
      }
    },
    {
      "cell_type": "code",
      "source": [
        "# No axis specified, then flatten the input array first and repeat\n",
        "# Data Augemnation \n",
        "arr = [[0, 1, 2], [3, 4, 5]]\n",
        "print(np.repeat(arr, 4)) "
      ],
      "metadata": {
        "colab": {
          "base_uri": "https://localhost:8080/"
        },
        "id": "R4Z5g0XV7Rlb",
        "outputId": "37c611b0-12bb-4d9a-9e8f-eac3cdb0bd69"
      },
      "execution_count": null,
      "outputs": [
        {
          "output_type": "stream",
          "name": "stdout",
          "text": [
            "[0 0 0 0 1 1 1 1 2 2 2 2 3 3 3 3 4 4 4 4 5 5 5 5]\n"
          ]
        }
      ]
    },
    {
      "cell_type": "code",
      "source": [
        "# An example of repeating along x-axis\n",
        "arr = [[0, 1, 2], [3, 4, 5]]\n",
        "print(np.repeat(arr, 3, axis=0)) "
      ],
      "metadata": {
        "colab": {
          "base_uri": "https://localhost:8080/"
        },
        "id": "0kzXsVlR8iam",
        "outputId": "3b38159e-eaee-4814-e7b8-391c957e1591"
      },
      "execution_count": null,
      "outputs": [
        {
          "output_type": "stream",
          "name": "stdout",
          "text": [
            "[[0 1 2]\n",
            " [0 1 2]\n",
            " [0 1 2]\n",
            " [3 4 5]\n",
            " [3 4 5]\n",
            " [3 4 5]]\n"
          ]
        }
      ]
    },
    {
      "cell_type": "code",
      "source": [
        "# An example of repeating along y-axis\n",
        "arr = [[0, 1, 2], [3, 4, 5]]\n",
        "print(np.repeat(arr, 3, axis=1)) "
      ],
      "metadata": {
        "colab": {
          "base_uri": "https://localhost:8080/"
        },
        "id": "CWkpI6Xd8kGI",
        "outputId": "71da9483-e270-43aa-ee00-a6e061e22857"
      },
      "execution_count": null,
      "outputs": [
        {
          "output_type": "stream",
          "name": "stdout",
          "text": [
            "[[0 0 0 1 1 1 2 2 2]\n",
            " [3 3 3 4 4 4 5 5 5]]\n"
          ]
        }
      ]
    },
    {
      "cell_type": "code",
      "source": [
        "# Repeat the whole array by a specified number of times\n",
        "arr = [0, 1, 2]\n",
        "print(np.tile(arr, 3))"
      ],
      "metadata": {
        "colab": {
          "base_uri": "https://localhost:8080/"
        },
        "id": "wpSqCjFB8l-m",
        "outputId": "cc8c0563-607b-434d-883d-6a31d3234e6c"
      },
      "execution_count": null,
      "outputs": [
        {
          "output_type": "stream",
          "name": "stdout",
          "text": [
            "[0 1 2 0 1 2 0 1 2]\n"
          ]
        }
      ]
    },
    {
      "cell_type": "code",
      "source": [
        "# Repeat along specified axes\n",
        "print(np.tile(arr, (2,2)))"
      ],
      "metadata": {
        "colab": {
          "base_uri": "https://localhost:8080/"
        },
        "id": "_V4WYmJG8psn",
        "outputId": "1e58e45f-5d09-414c-bd4c-cd2fc93cc9b0"
      },
      "execution_count": null,
      "outputs": [
        {
          "output_type": "stream",
          "name": "stdout",
          "text": [
            "[[0 1 2 0 1 2]\n",
            " [0 1 2 0 1 2]]\n"
          ]
        }
      ]
    },
    {
      "cell_type": "markdown",
      "source": [
        "**Create an identity matrix of given size**\n",
        "\n",
        "**np.eye(size, k=0)**: create an identity matrix of given size\n",
        "**size**: the size of the identity matrix\n",
        "\n",
        "**k**: the diagonal offset\n",
        "\n",
        "**np.identity()**: same as np.eye() but does not carry parameters"
      ],
      "metadata": {
        "id": "teXfgspI9A2s"
      }
    },
    {
      "cell_type": "code",
      "source": [
        "identity_matrix = np.eye(5)\n",
        "identity_matrix.astype(int)\n",
        "print(identity_matrix)\n",
        "print('\\n')\n",
        "# An example of diagonal offset# \n",
        "identity_matrix = np.eye(5, k=-1)\n",
        "print(identity_matrix)\n"
      ],
      "metadata": {
        "colab": {
          "base_uri": "https://localhost:8080/"
        },
        "id": "JW6WfI198rTW",
        "outputId": "c8983a68-7f9d-492c-ebad-a7b37516fcd2"
      },
      "execution_count": null,
      "outputs": [
        {
          "output_type": "stream",
          "name": "stdout",
          "text": [
            "[[1. 0. 0. 0. 0.]\n",
            " [0. 1. 0. 0. 0.]\n",
            " [0. 0. 1. 0. 0.]\n",
            " [0. 0. 0. 1. 0.]\n",
            " [0. 0. 0. 0. 1.]]\n",
            "\n",
            "\n",
            "[[0. 0. 0. 0. 0.]\n",
            " [1. 0. 0. 0. 0.]\n",
            " [0. 1. 0. 0. 0.]\n",
            " [0. 0. 1. 0. 0.]\n",
            " [0. 0. 0. 1. 0.]]\n"
          ]
        }
      ]
    },
    {
      "cell_type": "code",
      "source": [
        "identity_matrix = np.identity(5)\n",
        "print(identity_matrix)"
      ],
      "metadata": {
        "colab": {
          "base_uri": "https://localhost:8080/"
        },
        "id": "2UXTAU069pJf",
        "outputId": "7c5240ae-6445-4cf0-f954-060602154cee"
      },
      "execution_count": null,
      "outputs": [
        {
          "output_type": "stream",
          "name": "stdout",
          "text": [
            "[[1. 0. 0. 0. 0.]\n",
            " [0. 1. 0. 0. 0.]\n",
            " [0. 0. 1. 0. 0.]\n",
            " [0. 0. 0. 1. 0.]\n",
            " [0. 0. 0. 0. 1.]]\n"
          ]
        }
      ]
    },
    {
      "cell_type": "markdown",
      "source": [
        " **Create an array with given values on the diagonal**"
      ],
      "metadata": {
        "id": "z_fgYZ4Y95BW"
      }
    },
    {
      "cell_type": "code",
      "source": [
        "arr = np.random.rand(5,5)\n",
        "print(arr)\n",
        "print('\\n')\n",
        "# Extract values on the diagonal\n",
        "print('Values on the diagonal: ' + str(np.diag(arr)))"
      ],
      "metadata": {
        "colab": {
          "base_uri": "https://localhost:8080/"
        },
        "id": "VQNAMYXR9xtO",
        "outputId": "50dc2b4e-f199-464c-a152-587ab6a613f7"
      },
      "execution_count": null,
      "outputs": [
        {
          "output_type": "stream",
          "name": "stdout",
          "text": [
            "[[0.70505533 0.85329318 0.08177551 0.48546015 0.82661768]\n",
            " [0.56217222 0.37876538 0.90388452 0.84965428 0.71288134]\n",
            " [0.04556548 0.30508785 0.01444309 0.67948788 0.6452963 ]\n",
            " [0.08595185 0.94783298 0.60289772 0.49307462 0.73881069]\n",
            " [0.65278209 0.24715355 0.55658169 0.84598208 0.55948206]]\n",
            "\n",
            "\n",
            "Values on the diagonal: [0.70505533 0.37876538 0.01444309 0.49307462 0.55948206]\n"
          ]
        }
      ]
    },
    {
      "cell_type": "code",
      "source": [
        "# Create a matrix given values on the diagonal\n",
        "# All non-diagonal values set to zeros\n",
        "arr = np.diag([1,2,3,4,5])\n",
        "print(arr)"
      ],
      "metadata": {
        "colab": {
          "base_uri": "https://localhost:8080/"
        },
        "id": "BVpSj8jn-AzV",
        "outputId": "997ea63c-d962-4a7a-ce91-4c00657b7fcb"
      },
      "execution_count": null,
      "outputs": [
        {
          "output_type": "stream",
          "name": "stdout",
          "text": [
            "[[1 0 0 0 0]\n",
            " [0 2 0 0 0]\n",
            " [0 0 3 0 0]\n",
            " [0 0 0 4 0]\n",
            " [0 0 0 0 5]]\n"
          ]
        }
      ]
    },
    {
      "cell_type": "code",
      "source": [
        ""
      ],
      "metadata": {
        "id": "JoMm5l8J-EQg"
      },
      "execution_count": null,
      "outputs": []
    },
    {
      "cell_type": "markdown",
      "source": [
        "##**Inspect an Array section**\n",
        "\n",
        "\n",
        "\n"
      ],
      "metadata": {
        "id": "Zky-e1XP-sr4"
      }
    },
    {
      "cell_type": "code",
      "source": [
        "arr = np.array([[1,2,3], [4,5,6]], dtype=np.int64)"
      ],
      "metadata": {
        "id": "L3iUrYDn_73w"
      },
      "execution_count": null,
      "outputs": []
    },
    {
      "cell_type": "markdown",
      "source": [
        "**inspect general information of an array**"
      ],
      "metadata": {
        "id": "pE3oYQBBAsXb"
      }
    },
    {
      "cell_type": "code",
      "source": [
        "print(np.info(arr))\n",
        "#class:  ndarray  \n",
        "#shape:  (2, 3) \n",
        "#strides:  (24, 8)\n",
        "#itemsize:  8\n",
        "#aligned:  True\n",
        "#contiguous:  True\n",
        "#fortran:  False\n",
        "#data pointer: 0x25cec286150\n",
        "#byteorder:  little\n",
        "#byteswap:  False\n",
        "#type: int64\n",
        "#None"
      ],
      "metadata": {
        "colab": {
          "base_uri": "https://localhost:8080/"
        },
        "id": "9jkmMA11AwNM",
        "outputId": "d5732c8a-150f-450e-cbd4-1c811a1e547b"
      },
      "execution_count": null,
      "outputs": [
        {
          "output_type": "stream",
          "name": "stdout",
          "text": [
            "None\n"
          ]
        }
      ]
    },
    {
      "cell_type": "code",
      "source": [
        "#inspect the dimension of an array\n",
        "print(arr.shape[1])"
      ],
      "metadata": {
        "colab": {
          "base_uri": "https://localhost:8080/"
        },
        "id": "fsrR7on6AFUq",
        "outputId": "730e6987-f88a-49cc-f972-8bc807cbad82"
      },
      "execution_count": null,
      "outputs": [
        {
          "output_type": "stream",
          "name": "stdout",
          "text": [
            "3\n"
          ]
        }
      ]
    },
    {
      "cell_type": "code",
      "source": [
        "#inspect the data type of an array\n",
        "print(arr.dtype)"
      ],
      "metadata": {
        "colab": {
          "base_uri": "https://localhost:8080/"
        },
        "id": "0eqKQQz1AK52",
        "outputId": "76e24a42-1de3-4711-d682-0bdc2fcbe107"
      },
      "execution_count": null,
      "outputs": [
        {
          "output_type": "stream",
          "name": "stdout",
          "text": [
            "int64\n"
          ]
        }
      ]
    },
    {
      "cell_type": "code",
      "source": [
        "#inspect length of an array\n",
        "print(len(arr))"
      ],
      "metadata": {
        "colab": {
          "base_uri": "https://localhost:8080/"
        },
        "id": "dL96gneIAMT1",
        "outputId": "0e123c5a-6d94-4081-cdde-8cb2a20131c0"
      },
      "execution_count": null,
      "outputs": [
        {
          "output_type": "stream",
          "name": "stdout",
          "text": [
            "2\n"
          ]
        }
      ]
    },
    {
      "cell_type": "code",
      "source": [
        "#inspect the number of dimensions of an array\n",
        "print(arr.ndim)"
      ],
      "metadata": {
        "colab": {
          "base_uri": "https://localhost:8080/"
        },
        "id": "UZ0RnuVzAO3n",
        "outputId": "6d0aec7e-e1bc-49e7-ad98-8c39cc9dc983"
      },
      "execution_count": null,
      "outputs": [
        {
          "output_type": "stream",
          "name": "stdout",
          "text": [
            "2\n"
          ]
        }
      ]
    },
    {
      "cell_type": "code",
      "source": [
        "#inspect the number of elements in an array\n",
        "print(arr.size)"
      ],
      "metadata": {
        "colab": {
          "base_uri": "https://localhost:8080/"
        },
        "id": "2v3Imb8-AQe4",
        "outputId": "865541be-8cba-4123-f60c-e2fe051d054e"
      },
      "execution_count": null,
      "outputs": [
        {
          "output_type": "stream",
          "name": "stdout",
          "text": [
            "6\n"
          ]
        }
      ]
    },
    {
      "cell_type": "code",
      "source": [
        "#inspect the number of bytes of each element in an array\n",
        "print(arr.itemsize)"
      ],
      "metadata": {
        "colab": {
          "base_uri": "https://localhost:8080/"
        },
        "id": "XBDEG-8ZASEH",
        "outputId": "27542de1-9394-4746-d84f-fee67b5ed244"
      },
      "execution_count": null,
      "outputs": [
        {
          "output_type": "stream",
          "name": "stdout",
          "text": [
            "8\n"
          ]
        }
      ]
    },
    {
      "cell_type": "code",
      "source": [
        "# arr.nbytes = arr.size * arr.itemsize\n",
        "print(arr.nbytes)"
      ],
      "metadata": {
        "colab": {
          "base_uri": "https://localhost:8080/"
        },
        "id": "mXHJ2ON2ASoQ",
        "outputId": "f20b2620-874f-443c-87d7-b6d40713ca4e"
      },
      "execution_count": null,
      "outputs": [
        {
          "output_type": "stream",
          "name": "stdout",
          "text": [
            "48\n"
          ]
        }
      ]
    },
    {
      "cell_type": "code",
      "source": [
        ""
      ],
      "metadata": {
        "id": "n_Ag2XLsD1_y"
      },
      "execution_count": null,
      "outputs": []
    },
    {
      "cell_type": "markdown",
      "source": [
        "#**Sampling Methods section**"
      ],
      "metadata": {
        "id": "vP9v7wjuFu8J"
      }
    },
    {
      "cell_type": "code",
      "source": [
        "np.random.seed(123)#random بتثبت الرقم ال \n",
        "#بتسبش البركت فاضي \n",
        "np.random.rand(3)\n"
      ],
      "metadata": {
        "colab": {
          "base_uri": "https://localhost:8080/"
        },
        "id": "MpAP2UqtF1A6",
        "outputId": "469463a9-0a34-49ae-f783-ff32f9a6b529"
      },
      "execution_count": null,
      "outputs": [
        {
          "output_type": "execute_result",
          "data": {
            "text/plain": [
              "array([0.69646919, 0.28613933, 0.22685145])"
            ]
          },
          "metadata": {},
          "execution_count": 93
        }
      ]
    },
    {
      "cell_type": "code",
      "source": [
        "rs = np.random.RandomState(123) #random بتثبت الرقم ال\n",
        "# rsفي المتغير الي اسمه \n",
        "rs.rand(10)"
      ],
      "metadata": {
        "colab": {
          "base_uri": "https://localhost:8080/"
        },
        "id": "oFhgx3-Jd5Jh",
        "outputId": "91f72079-cff9-49c9-dabc-0809859f2793"
      },
      "execution_count": null,
      "outputs": [
        {
          "output_type": "execute_result",
          "data": {
            "text/plain": [
              "array([0.69646919, 0.28613933, 0.22685145, 0.55131477, 0.71946897,\n",
              "       0.42310646, 0.9807642 , 0.68482974, 0.4809319 , 0.39211752])"
            ]
          },
          "metadata": {},
          "execution_count": 99
        }
      ]
    },
    {
      "cell_type": "code",
      "source": [
        ""
      ],
      "metadata": {
        "id": "4qGscnkaefIc"
      },
      "execution_count": null,
      "outputs": []
    },
    {
      "cell_type": "markdown",
      "source": [
        "**generate a random sample from interval [0, 1) in a given shape**"
      ],
      "metadata": {
        "id": "jypfXvRme9E1"
      }
    },
    {
      "cell_type": "code",
      "source": [
        "# generate a random scalar\n",
        "print(np.random.rand())    #generate  random variables \n",
        " "
      ],
      "metadata": {
        "colab": {
          "base_uri": "https://localhost:8080/"
        },
        "id": "kheZpbl6fBHZ",
        "outputId": "2be30892-1af4-43c7-d3ef-455e4501c5b9"
      },
      "execution_count": null,
      "outputs": [
        {
          "output_type": "stream",
          "name": "stdout",
          "text": [
            "0.42310646012446096\n"
          ]
        }
      ]
    },
    {
      "cell_type": "code",
      "source": [
        "# generate a 1-D array\n",
        "print(np.random.rand(3))   "
      ],
      "metadata": {
        "colab": {
          "base_uri": "https://localhost:8080/"
        },
        "id": "QsUiqFV3fDF-",
        "outputId": "cfaf6dc0-a06e-42a8-9b39-eff2702efdf6"
      },
      "execution_count": null,
      "outputs": [
        {
          "output_type": "stream",
          "name": "stdout",
          "text": [
            "[0.73799541 0.18249173 0.17545176]\n"
          ]
        }
      ]
    },
    {
      "cell_type": "code",
      "source": [
        "# generate a 2-D array\n",
        "print(np.random.rand(3,3)) "
      ],
      "metadata": {
        "colab": {
          "base_uri": "https://localhost:8080/"
        },
        "id": "NYCqaC4qfL0L",
        "outputId": "834cfc4c-a72b-438c-ea8a-174d906a28d8"
      },
      "execution_count": null,
      "outputs": [
        {
          "output_type": "stream",
          "name": "stdout",
          "text": [
            "[[0.53155137 0.53182759 0.63440096]\n",
            " [0.84943179 0.72445532 0.61102351]\n",
            " [0.72244338 0.32295891 0.36178866]]\n"
          ]
        }
      ]
    },
    {
      "cell_type": "code",
      "source": [
        "print(np.random.randn(3,3))#generate random numbers may includes -Ve numbers"
      ],
      "metadata": {
        "colab": {
          "base_uri": "https://localhost:8080/"
        },
        "id": "4miRi2iFfUHi",
        "outputId": "e4752af4-4db1-4079-eb07-17a7e8f4c0bf"
      },
      "execution_count": null,
      "outputs": [
        {
          "output_type": "stream",
          "name": "stdout",
          "text": [
            "[[-0.74765132 -0.98486761 -0.74856868]\n",
            " [ 0.24036728 -1.85563747 -1.7794548 ]\n",
            " [-2.75022426 -0.23415755 -0.69598118]]\n"
          ]
        }
      ]
    },
    {
      "cell_type": "markdown",
      "source": [
        "enerate an array of random integers in a given interval [low, high)"
      ],
      "metadata": {
        "id": "L5KllBrAgbrL"
      }
    },
    {
      "cell_type": "code",
      "source": [
        "# np.ranodm.randint(low, high, size, dtype)\n",
        "print(np.random.randint(1, 10, 3, 'i8'))"
      ],
      "metadata": {
        "colab": {
          "base_uri": "https://localhost:8080/"
        },
        "id": "7lh6G9xQgTy6",
        "outputId": "54be9e54-6fe4-4f09-b265-d46bf09f063c"
      },
      "execution_count": null,
      "outputs": [
        {
          "output_type": "stream",
          "name": "stdout",
          "text": [
            "[5 7 4]\n"
          ]
        }
      ]
    },
    {
      "cell_type": "code",
      "source": [
        ""
      ],
      "metadata": {
        "id": "L95Gmc2cgez-"
      },
      "execution_count": null,
      "outputs": []
    },
    {
      "cell_type": "markdown",
      "source": [
        "generate an array of random floating-point numbers in the interval [0.0, 1.0)"
      ],
      "metadata": {
        "id": "BfTbWfSog4YT"
      }
    },
    {
      "cell_type": "code",
      "source": [
        "# the following methods are the same as np.random.rand()\n",
        "print(np.random.random_sample(3))\n",
        "print('\\n')\n",
        "print(np.random.random(3))\n",
        "print('\\n')\n",
        "print(np.random.ranf(3))\n",
        "print('\\n')\n",
        "print(np.random.sample(3))"
      ],
      "metadata": {
        "colab": {
          "base_uri": "https://localhost:8080/"
        },
        "id": "LtKEgKUIg5qN",
        "outputId": "00a9559c-c30f-4797-d8b1-a073e33f9054"
      },
      "execution_count": null,
      "outputs": [
        {
          "output_type": "stream",
          "name": "stdout",
          "text": [
            "[0.99261363 0.40518518 0.19017372]\n",
            "\n",
            "\n",
            "[0.48817449 0.50236965 0.40335482]\n",
            "\n",
            "\n",
            "[0.18109542 0.0480298  0.60469135]\n",
            "\n",
            "\n",
            "[0.26591121 0.881347   0.58404612]\n"
          ]
        }
      ]
    },
    {
      "cell_type": "markdown",
      "source": [
        "generate a random sample from a given 1-D array"
      ],
      "metadata": {
        "id": "hV4f-i2FhN6y"
      }
    },
    {
      "cell_type": "code",
      "source": [
        "# np.random.choice(iterable_or_int, size, replace=True, p=weights)\n",
        "print(np.random.choice(range(3), 10, replace=True, p=[0.1, 0.8, 0.1]))#p ديه معناها الاحتماليات الي انت عايز الارقام تطلع بيها"
      ],
      "metadata": {
        "colab": {
          "base_uri": "https://localhost:8080/"
        },
        "id": "qMKKESjWg9Fx",
        "outputId": "c7b2f33d-378f-4537-ed4c-32bf61774c61"
      },
      "execution_count": null,
      "outputs": [
        {
          "output_type": "stream",
          "name": "stdout",
          "text": [
            "[1 1 1 2 1 2 2 0 1 1]\n"
          ]
        }
      ]
    },
    {
      "cell_type": "code",
      "source": [
        "print(np.random.choice([1,2,3], 10))"
      ],
      "metadata": {
        "colab": {
          "base_uri": "https://localhost:8080/"
        },
        "id": "Qh3kfOdlhMv-",
        "outputId": "d6f1544a-b555-44e9-b03d-2dc497943228"
      },
      "execution_count": null,
      "outputs": [
        {
          "output_type": "stream",
          "name": "stdout",
          "text": [
            "[3 3 1 3 2 1 2 1 2 3]\n"
          ]
        }
      ]
    },
    {
      "cell_type": "code",
      "source": [
        "print(np.random.choice(3, 10))"
      ],
      "metadata": {
        "colab": {
          "base_uri": "https://localhost:8080/"
        },
        "id": "FnA97dMuhrUz",
        "outputId": "d1e6a9e8-8365-4431-b0b1-148216e6d218"
      },
      "execution_count": null,
      "outputs": [
        {
          "output_type": "stream",
          "name": "stdout",
          "text": [
            "[2 2 2 2 2 1 0 0 1 1]\n"
          ]
        }
      ]
    },
    {
      "cell_type": "markdown",
      "source": [
        " **If  a given  array is more than 1-D then you use arr=arr.flatten()\n",
        "to make it 1-D**"
      ],
      "metadata": {
        "id": "KOa-cnzahwE_"
      }
    },
    {
      "cell_type": "code",
      "source": [
        "#Error\n",
        "arr=np.array([[1,2,3],[23,8,9]])\n",
        "print(np.random.choice(arr, 10))"
      ],
      "metadata": {
        "colab": {
          "base_uri": "https://localhost:8080/",
          "height": 225
        },
        "id": "qDmNi0nShtL8",
        "outputId": "06cd6d4e-0102-4aa4-ae91-9a1c8b3e1975"
      },
      "execution_count": null,
      "outputs": [
        {
          "output_type": "error",
          "ename": "ValueError",
          "evalue": "ignored",
          "traceback": [
            "\u001b[0;31m---------------------------------------------------------------------------\u001b[0m",
            "\u001b[0;31mValueError\u001b[0m                                Traceback (most recent call last)",
            "\u001b[0;32m<ipython-input-125-b53373c2b9ca>\u001b[0m in \u001b[0;36m<module>\u001b[0;34m()\u001b[0m\n\u001b[1;32m      1\u001b[0m \u001b[0marr\u001b[0m\u001b[0;34m=\u001b[0m\u001b[0mnp\u001b[0m\u001b[0;34m.\u001b[0m\u001b[0marray\u001b[0m\u001b[0;34m(\u001b[0m\u001b[0;34m[\u001b[0m\u001b[0;34m[\u001b[0m\u001b[0;36m1\u001b[0m\u001b[0;34m,\u001b[0m\u001b[0;36m2\u001b[0m\u001b[0;34m,\u001b[0m\u001b[0;36m3\u001b[0m\u001b[0;34m]\u001b[0m\u001b[0;34m,\u001b[0m\u001b[0;34m[\u001b[0m\u001b[0;36m23\u001b[0m\u001b[0;34m,\u001b[0m\u001b[0;36m8\u001b[0m\u001b[0;34m,\u001b[0m\u001b[0;36m9\u001b[0m\u001b[0;34m]\u001b[0m\u001b[0;34m]\u001b[0m\u001b[0;34m)\u001b[0m\u001b[0;34m\u001b[0m\u001b[0;34m\u001b[0m\u001b[0m\n\u001b[0;32m----> 2\u001b[0;31m \u001b[0mprint\u001b[0m\u001b[0;34m(\u001b[0m\u001b[0mnp\u001b[0m\u001b[0;34m.\u001b[0m\u001b[0mrandom\u001b[0m\u001b[0;34m.\u001b[0m\u001b[0mchoice\u001b[0m\u001b[0;34m(\u001b[0m\u001b[0marr\u001b[0m\u001b[0;34m,\u001b[0m \u001b[0;36m10\u001b[0m\u001b[0;34m)\u001b[0m\u001b[0;34m)\u001b[0m\u001b[0;34m\u001b[0m\u001b[0;34m\u001b[0m\u001b[0m\n\u001b[0m",
            "\u001b[0;32mmtrand.pyx\u001b[0m in \u001b[0;36mnumpy.random.mtrand.RandomState.choice\u001b[0;34m()\u001b[0m\n",
            "\u001b[0;31mValueError\u001b[0m: a must be 1-dimensional"
          ]
        }
      ]
    },
    {
      "cell_type": "code",
      "source": [
        "arr=arr.flatten()\n",
        "print(np.random.choice(arr, 10))"
      ],
      "metadata": {
        "colab": {
          "base_uri": "https://localhost:8080/"
        },
        "id": "8aMwwqLLiU9q",
        "outputId": "3a7fb977-1435-45e9-974c-2a53147044e0"
      },
      "execution_count": null,
      "outputs": [
        {
          "output_type": "stream",
          "name": "stdout",
          "text": [
            "[ 9  2  3  1 23  2 23  9 23  9]\n"
          ]
        }
      ]
    },
    {
      "cell_type": "markdown",
      "source": [
        "shuffle an array in place"
      ],
      "metadata": {
        "id": "4PbUh-m_jkNH"
      }
    },
    {
      "cell_type": "code",
      "source": [
        "arr = np.array(range(10))#(shuffle)  random ديه معناها انه بيفنط الارقام بطريقه\n",
        "print(arr)"
      ],
      "metadata": {
        "colab": {
          "base_uri": "https://localhost:8080/"
        },
        "id": "Kh3eBR_OizUO",
        "outputId": "c91d3d9d-bdfb-4198-9369-070b8eb03eaa"
      },
      "execution_count": null,
      "outputs": [
        {
          "output_type": "stream",
          "name": "stdout",
          "text": [
            "[0 1 2 3 4 5 6 7 8 9]\n"
          ]
        }
      ]
    },
    {
      "cell_type": "code",
      "source": [
        "np.random.shuffle(arr)\n",
        "print(arr)"
      ],
      "metadata": {
        "colab": {
          "base_uri": "https://localhost:8080/"
        },
        "id": "dwqduacijllN",
        "outputId": "007f8b12-c303-4c6c-c99e-9be2eff3ae6f"
      },
      "execution_count": null,
      "outputs": [
        {
          "output_type": "stream",
          "name": "stdout",
          "text": [
            "[0 2 4 9 6 7 8 1 5 3]\n"
          ]
        }
      ]
    },
    {
      "cell_type": "markdown",
      "source": [
        "**generate a permutation of an array**"
      ],
      "metadata": {
        "id": "Nijs9jFpjvFk"
      }
    },
    {
      "cell_type": "code",
      "source": [
        "# similar to np.random.shuffle(), but it returns a copy rather than making changes in place\n",
        "arr = np.array(range(10))\n",
        "print('The initial array: ', arr)\n",
        "print('A permutation of the array: ', np.random.permutation(arr))"
      ],
      "metadata": {
        "colab": {
          "base_uri": "https://localhost:8080/"
        },
        "id": "ieSsmwpyjq9A",
        "outputId": "a8021994-87b9-4ed3-cefb-df0992f24764"
      },
      "execution_count": null,
      "outputs": [
        {
          "output_type": "stream",
          "name": "stdout",
          "text": [
            "The initial array:  [0 1 2 3 4 5 6 7 8 9]\n",
            "A permutation of the array:  [3 7 0 4 9 2 6 8 5 1]\n"
          ]
        }
      ]
    },
    {
      "cell_type": "markdown",
      "source": [
        "**compute the indices of the min and max along a specified axis**"
      ],
      "metadata": {
        "id": "f672enoBmsq4"
      }
    },
    {
      "cell_type": "code",
      "source": [
        "arr = np.random.rand(5,5)"
      ],
      "metadata": {
        "id": "CS1FEKAVjy8K"
      },
      "execution_count": null,
      "outputs": []
    },
    {
      "cell_type": "code",
      "source": [
        "# along the row\n",
        "print(np.argmin(arr, axis=0))\n",
        "print(np.argmax(arr, axis=0))"
      ],
      "metadata": {
        "colab": {
          "base_uri": "https://localhost:8080/"
        },
        "id": "27R0vyDymvXB",
        "outputId": "02f5338d-f8c4-4f0a-f365-edf6d9ba5270"
      },
      "execution_count": null,
      "outputs": [
        {
          "output_type": "stream",
          "name": "stdout",
          "text": [
            "[0 0 2 0 0]\n",
            "[1 1 3 3 2]\n"
          ]
        }
      ]
    },
    {
      "cell_type": "code",
      "source": [
        "# along the column\n",
        "print(np.argmin(arr, axis=1))\n",
        "print(np.argmax(arr, axis=1))"
      ],
      "metadata": {
        "colab": {
          "base_uri": "https://localhost:8080/"
        },
        "id": "-Vqeb1cQmyBb",
        "outputId": "5e88a055-75ce-45fc-be69-7f4ee70d96f2"
      },
      "execution_count": null,
      "outputs": [
        {
          "output_type": "stream",
          "name": "stdout",
          "text": [
            "[1 2 2 1 2]\n",
            "[0 4 4 3 0]\n"
          ]
        }
      ]
    },
    {
      "cell_type": "code",
      "source": [
        "print(np.argmin(arr))\n",
        "print(np.argmax(arr))"
      ],
      "metadata": {
        "colab": {
          "base_uri": "https://localhost:8080/"
        },
        "id": "xzwJ3VXHm2jK",
        "outputId": "8e613ca8-66b1-4018-8e63-f2851656d4c0"
      },
      "execution_count": null,
      "outputs": [
        {
          "output_type": "stream",
          "name": "stdout",
          "text": [
            "12\n",
            "14\n"
          ]
        }
      ]
    },
    {
      "cell_type": "code",
      "source": [
        ""
      ],
      "metadata": {
        "id": "-1bm9NM-nON8"
      },
      "execution_count": null,
      "outputs": []
    },
    {
      "cell_type": "markdown",
      "source": [
        "#**Slicing & Indexing**"
      ],
      "metadata": {
        "id": "HS3DNjmMnaYR"
      }
    },
    {
      "cell_type": "code",
      "source": [
        "arr = np.array(range(100))#1-D array\n",
        "print(arr)"
      ],
      "metadata": {
        "colab": {
          "base_uri": "https://localhost:8080/"
        },
        "id": "vPYuw306neAG",
        "outputId": "cafaf26a-6797-4f05-9434-dcc5eb47f452"
      },
      "execution_count": null,
      "outputs": [
        {
          "output_type": "stream",
          "name": "stdout",
          "text": [
            "[ 0  1  2  3  4  5  6  7  8  9 10 11 12 13 14 15 16 17 18 19 20 21 22 23\n",
            " 24 25 26 27 28 29 30 31 32 33 34 35 36 37 38 39 40 41 42 43 44 45 46 47\n",
            " 48 49 50 51 52 53 54 55 56 57 58 59 60 61 62 63 64 65 66 67 68 69 70 71\n",
            " 72 73 74 75 76 77 78 79 80 81 82 83 84 85 86 87 88 89 90 91 92 93 94 95\n",
            " 96 97 98 99]\n"
          ]
        }
      ]
    },
    {
      "cell_type": "code",
      "source": [
        "arr = np.array(range(25)).reshape((5,5))\n",
        "print(arr)"
      ],
      "metadata": {
        "colab": {
          "base_uri": "https://localhost:8080/"
        },
        "id": "eS3S65yRtMyv",
        "outputId": "4649830b-46ce-4670-d22e-e7ba71a25a96"
      },
      "execution_count": null,
      "outputs": [
        {
          "output_type": "stream",
          "name": "stdout",
          "text": [
            "[[ 0  1  2  3  4]\n",
            " [ 5  6  7  8  9]\n",
            " [10 11 12 13 14]\n",
            " [15 16 17 18 19]\n",
            " [20 21 22 23 24]]\n"
          ]
        }
      ]
    },
    {
      "cell_type": "code",
      "source": [
        "print(arr[4][4])\n",
        "# or more concisely\n",
        "print(arr[4,4])"
      ],
      "metadata": {
        "colab": {
          "base_uri": "https://localhost:8080/"
        },
        "id": "jFQvOp8PtWxq",
        "outputId": "2084e55d-684c-434b-82f3-559a85df1e51"
      },
      "execution_count": null,
      "outputs": [
        {
          "output_type": "stream",
          "name": "stdout",
          "text": [
            "24\n",
            "24\n"
          ]
        }
      ]
    },
    {
      "cell_type": "markdown",
      "source": [
        "indexing with slicing"
      ],
      "metadata": {
        "id": "fKuGdXmVuP3P"
      }
    },
    {
      "cell_type": "code",
      "source": [
        "print(arr[0:2])"
      ],
      "metadata": {
        "colab": {
          "base_uri": "https://localhost:8080/"
        },
        "id": "IiO2p_kCuA6H",
        "outputId": "f11117d7-1223-4c24-d47b-515e0ae8b71a"
      },
      "execution_count": null,
      "outputs": [
        {
          "output_type": "stream",
          "name": "stdout",
          "text": [
            "[[0 1 2 3 4]\n",
            " [5 6 7 8 9]]\n"
          ]
        }
      ]
    },
    {
      "cell_type": "code",
      "source": [
        "print(arr[0:2,0:4])"
      ],
      "metadata": {
        "colab": {
          "base_uri": "https://localhost:8080/"
        },
        "id": "Ly0NALpWuXNj",
        "outputId": "06b6e681-fbaf-423d-92ec-e69e1f39154d"
      },
      "execution_count": null,
      "outputs": [
        {
          "output_type": "stream",
          "name": "stdout",
          "text": [
            "[[0 1 2 3]\n",
            " [5 6 7 8]]\n"
          ]
        }
      ]
    },
    {
      "cell_type": "code",
      "source": [
        "# ellipsis slicing: auto-complete the dimensions\n",
        "arr = np.array(range(16)).reshape(2,2,2,2)\n",
        "print(arr)\n",
        "print(\"-----------------\")\n",
        "# equivalent to arr[0,:,:,:]\n",
        "print(arr[0, 1,...])    "
      ],
      "metadata": {
        "colab": {
          "base_uri": "https://localhost:8080/"
        },
        "id": "ebczbi0Au0ia",
        "outputId": "04785e5e-5ec6-4e6f-90b2-c0c4be5c7b38"
      },
      "execution_count": null,
      "outputs": [
        {
          "output_type": "stream",
          "name": "stdout",
          "text": [
            "[[[[ 0  1]\n",
            "   [ 2  3]]\n",
            "\n",
            "  [[ 4  5]\n",
            "   [ 6  7]]]\n",
            "\n",
            "\n",
            " [[[ 8  9]\n",
            "   [10 11]]\n",
            "\n",
            "  [[12 13]\n",
            "   [14 15]]]]\n",
            "-----------------\n",
            "[[4 5]\n",
            " [6 7]]\n"
          ]
        }
      ]
    },
    {
      "cell_type": "markdown",
      "source": [
        "boolean indexing"
      ],
      "metadata": {
        "id": "HmHci4OGETAD"
      }
    },
    {
      "cell_type": "code",
      "source": [
        "arr1 = np.arange(25).reshape((5,5))\n",
        "print(arr1)\n",
        "print('\\n')\n",
        "bools = np.array([True, True, False, True, False])\n",
        "print(arr1[bools])"
      ],
      "metadata": {
        "colab": {
          "base_uri": "https://localhost:8080/"
        },
        "id": "j2JVuy-7vPqb",
        "outputId": "b4f55d82-26c8-4bb0-e852-45a500052b76"
      },
      "execution_count": null,
      "outputs": [
        {
          "output_type": "stream",
          "name": "stdout",
          "text": [
            "[[ 0  1  2  3  4]\n",
            " [ 5  6  7  8  9]\n",
            " [10 11 12 13 14]\n",
            " [15 16 17 18 19]\n",
            " [20 21 22 23 24]]\n",
            "\n",
            "\n",
            "[[ 0  1  2  3  4]\n",
            " [ 5  6  7  8  9]\n",
            " [15 16 17 18 19]]\n"
          ]
        }
      ]
    },
    {
      "cell_type": "code",
      "source": [
        "# negate the condition\n",
        "print(arr1[~bools])  \n"
      ],
      "metadata": {
        "colab": {
          "base_uri": "https://localhost:8080/"
        },
        "id": "0V0khbQJwTYY",
        "outputId": "5f98a74d-396a-4b56-df85-b0f0f41e5f3b"
      },
      "execution_count": null,
      "outputs": [
        {
          "output_type": "stream",
          "name": "stdout",
          "text": [
            "[[10 11 12 13 14]\n",
            " [20 21 22 23 24]]\n"
          ]
        }
      ]
    },
    {
      "cell_type": "code",
      "source": [
        "arr2 = np.array([1,2,3,4,5])\n",
        "# multiple conditions\n",
        "print(arr1[(arr2<2) | (arr2>4)])  "
      ],
      "metadata": {
        "colab": {
          "base_uri": "https://localhost:8080/"
        },
        "id": "jsroKv3Hy4L9",
        "outputId": "6e406cc2-c5ad-4fa3-de0a-9e39b3b6294a"
      },
      "execution_count": null,
      "outputs": [
        {
          "output_type": "stream",
          "name": "stdout",
          "text": [
            "[[ 0  1  2  3  4]\n",
            " [20 21 22 23 24]]\n"
          ]
        }
      ]
    },
    {
      "cell_type": "markdown",
      "source": [
        "dimension inference"
      ],
      "metadata": {
        "id": "PuX7WphTGyJ8"
      }
    },
    {
      "cell_type": "code",
      "source": [
        "# dimension inference using any negative number (usually -1)\n",
        "arr = np.array(range(25)).reshape((5,-1))\n",
        "arr2=np.array(range(25)).reshape(5,5)\n",
        "print(arr2.shape)\n",
        "print(arr.shape)"
      ],
      "metadata": {
        "colab": {
          "base_uri": "https://localhost:8080/"
        },
        "id": "-napmVc4FJRG",
        "outputId": "a335fa3a-a248-473e-c6bc-8f5ebd21983c"
      },
      "execution_count": null,
      "outputs": [
        {
          "output_type": "stream",
          "name": "stdout",
          "text": [
            "(5, 5)\n",
            "(5, 5)\n"
          ]
        }
      ]
    },
    {
      "cell_type": "markdown",
      "source": [
        "**find elements/indices by conditions**"
      ],
      "metadata": {
        "id": "YYvmLW8JHRMr"
      }
    },
    {
      "cell_type": "code",
      "source": [
        "arr = np.arange(16).reshape(4,4)\n",
        "arr"
      ],
      "metadata": {
        "colab": {
          "base_uri": "https://localhost:8080/"
        },
        "id": "Gi-dS000HGcD",
        "outputId": "f497c925-7441-44a2-baf3-0d0e0e6fbe72"
      },
      "execution_count": null,
      "outputs": [
        {
          "output_type": "execute_result",
          "data": {
            "text/plain": [
              "array([[ 0,  1,  2,  3],\n",
              "       [ 4,  5,  6,  7],\n",
              "       [ 8,  9, 10, 11],\n",
              "       [12, 13, 14, 15]])"
            ]
          },
          "metadata": {},
          "execution_count": 209
        }
      ]
    },
    {
      "cell_type": "code",
      "source": [
        "# find the elements greater than 5 and return a flattened array\n",
        "print(arr[arr>5])    # or arr[np.where(arr>5)]"
      ],
      "metadata": {
        "colab": {
          "base_uri": "https://localhost:8080/"
        },
        "id": "afpT-UuDHVlL",
        "outputId": "a9315917-5279-47e2-e6ef-329deb7c50ef"
      },
      "execution_count": null,
      "outputs": [
        {
          "output_type": "stream",
          "name": "stdout",
          "text": [
            "[ 6  7  8  9 10 11 12 13 14 15]\n"
          ]
        }
      ]
    },
    {
      "cell_type": "code",
      "source": [
        "# return values based on conditions \n",
        "# np.where(condition, true_return, false_return)\n",
        "print(np.where(arr>5, 1, 0))\n",
        "arr2=np.where(arr>5, 1, 0)\n",
        "print(\"\\n\")\n",
        "# find the indices of the elements on conditions\n",
        "print(np.argwhere(arr2==0))"
      ],
      "metadata": {
        "colab": {
          "base_uri": "https://localhost:8080/"
        },
        "id": "FD837lJ_HXrL",
        "outputId": "e417ecb3-9ce2-4b50-e6df-ca2df12d628e"
      },
      "execution_count": null,
      "outputs": [
        {
          "output_type": "stream",
          "name": "stdout",
          "text": [
            "[[0 0 0 0]\n",
            " [0 0 1 1]\n",
            " [1 1 1 1]\n",
            " [1 1 1 1]]\n",
            "\n",
            "\n",
            "[[0 0]\n",
            " [0 1]\n",
            " [0 2]\n",
            " [0 3]\n",
            " [1 0]\n",
            " [1 1]]\n"
          ]
        }
      ]
    },
    {
      "cell_type": "markdown",
      "source": [
        "#**Manipulate an Array**"
      ],
      "metadata": {
        "id": "4Ely5txSSmUG"
      }
    },
    {
      "cell_type": "markdown",
      "source": [
        "**The numpy.ravel()**\n",
        "\n",
        "functions returns contiguous flattened array(1D array with all the input-array elements and with the same type as it). A copy is made only if needed."
      ],
      "metadata": {
        "id": "UV0Qb_zoOHm2"
      }
    },
    {
      "cell_type": "code",
      "source": [
        "arr = np.arange(16).reshape(4,4)\n",
        "arr"
      ],
      "metadata": {
        "colab": {
          "base_uri": "https://localhost:8080/"
        },
        "id": "-4vfXGHxHczl",
        "outputId": "146fef93-2c44-4e4d-d1f4-4685c414786e"
      },
      "execution_count": null,
      "outputs": [
        {
          "output_type": "execute_result",
          "data": {
            "text/plain": [
              "array([[ 0,  1,  2,  3],\n",
              "       [ 4,  5,  6,  7],\n",
              "       [ 8,  9, 10, 11],\n",
              "       [12, 13, 14, 15]])"
            ]
          },
          "metadata": {},
          "execution_count": 226
        }
      ]
    },
    {
      "cell_type": "code",
      "source": [
        "arr.ravel()#مش فهماها اوي الصراحه حساها زي ال flatten()"
      ],
      "metadata": {
        "colab": {
          "base_uri": "https://localhost:8080/"
        },
        "id": "_P9lAm4gOxFw",
        "outputId": "4e8daf49-5909-4069-9abf-6c1ee8df1d71"
      },
      "execution_count": null,
      "outputs": [
        {
          "output_type": "execute_result",
          "data": {
            "text/plain": [
              "array([ 0,  1,  2,  3,  4,  5,  6,  7,  8,  9, 10, 11, 12, 13, 14, 15])"
            ]
          },
          "metadata": {},
          "execution_count": 227
        }
      ]
    },
    {
      "cell_type": "markdown",
      "source": [
        "change the shape of an array"
      ],
      "metadata": {
        "id": "3RgccNeqPNOk"
      }
    },
    {
      "cell_type": "code",
      "source": [
        "arr = np.random.rand(3,4)"
      ],
      "metadata": {
        "id": "FJITpMLRPUo3"
      },
      "execution_count": null,
      "outputs": []
    },
    {
      "cell_type": "code",
      "source": [
        "# change the shape of an array and return a copy\n",
        "arr.reshape((2,6))"
      ],
      "metadata": {
        "colab": {
          "base_uri": "https://localhost:8080/"
        },
        "id": "mnWCtUTlPGER",
        "outputId": "9dd0f4ae-b88f-47c0-9707-b493b8604b18"
      },
      "execution_count": null,
      "outputs": [
        {
          "output_type": "execute_result",
          "data": {
            "text/plain": [
              "array([[0.41051979, 0.19100696, 0.96749431, 0.65075037, 0.86545985,\n",
              "        0.02524236],\n",
              "       [0.26690581, 0.5020711 , 0.06744864, 0.99303326, 0.2364624 ,\n",
              "        0.37429218]])"
            ]
          },
          "metadata": {},
          "execution_count": 232
        }
      ]
    },
    {
      "cell_type": "code",
      "source": [
        "# change the shape of an array in place\n",
        "arr.resize((2,6))"
      ],
      "metadata": {
        "id": "6_Q96FTUPPhO"
      },
      "execution_count": null,
      "outputs": []
    },
    {
      "cell_type": "markdown",
      "source": [
        "**append elements to an array**"
      ],
      "metadata": {
        "id": "r2qFPWCtPjtQ"
      }
    },
    {
      "cell_type": "code",
      "source": [
        "arr = np.array([1,2,3])\n",
        "arr1 = np.append(arr, 4)    \n",
        "print(arr1)\n"
      ],
      "metadata": {
        "colab": {
          "base_uri": "https://localhost:8080/"
        },
        "id": "JXDYaxkmPa_o",
        "outputId": "fafd37c6-de50-4c7d-f6ef-02fd89647b54"
      },
      "execution_count": null,
      "outputs": [
        {
          "output_type": "stream",
          "name": "stdout",
          "text": [
            "[1 2 3 4]\n"
          ]
        }
      ]
    },
    {
      "cell_type": "code",
      "source": [
        "# append an array and return a copy\n",
        "arr2 = np.append(arr, [4,5,6])    \n",
        "print(arr2)"
      ],
      "metadata": {
        "colab": {
          "base_uri": "https://localhost:8080/"
        },
        "id": "NI6xJfKTPsqq",
        "outputId": "cbc7b867-5fd4-432f-c905-48e316bfd665"
      },
      "execution_count": null,
      "outputs": [
        {
          "output_type": "stream",
          "name": "stdout",
          "text": [
            "[1 2 3 4 5 6]\n"
          ]
        }
      ]
    },
    {
      "cell_type": "markdown",
      "source": [
        " insert elements into an array"
      ],
      "metadata": {
        "id": "-I9bxkVuPzCA"
      }
    },
    {
      "cell_type": "code",
      "source": [
        "# np.insert(array, position, element)\n",
        "# insert a scalar at a certain position\n",
        "arr3 = np.insert(arr, 0, 100)    \n",
        "print(arr3)\n",
        "# insert multiple values at a certain position\n",
        "arr3 = np.insert(arr, 0, [1,2,3])    \n",
        "print(arr3)"
      ],
      "metadata": {
        "colab": {
          "base_uri": "https://localhost:8080/"
        },
        "id": "l-LVqc50Pt-C",
        "outputId": "7b9d5ded-3753-4cd0-d9aa-791d21cba244"
      },
      "execution_count": null,
      "outputs": [
        {
          "output_type": "stream",
          "name": "stdout",
          "text": [
            "[100   1   2   3]\n",
            "[1 2 3 1 2 3]\n"
          ]
        }
      ]
    },
    {
      "cell_type": "markdown",
      "source": [
        "delete elements from an array"
      ],
      "metadata": {
        "id": "xvTym7QMQZJV"
      }
    },
    {
      "cell_type": "code",
      "source": [
        "#arr=[1,2,3]\n",
        "# remove the element at position 0\n",
        "arr4 = np.delete(arr, 0)    \n",
        "print(arr4)"
      ],
      "metadata": {
        "colab": {
          "base_uri": "https://localhost:8080/"
        },
        "id": "sLqvcip8PxPb",
        "outputId": "3d574345-7d92-47be-cb63-f0977dae65cc"
      },
      "execution_count": null,
      "outputs": [
        {
          "output_type": "stream",
          "name": "stdout",
          "text": [
            "[2 3]\n"
          ]
        }
      ]
    },
    {
      "cell_type": "code",
      "source": [
        "#arr=[1,2,3]\n",
        "# remove the element at multiple positions\n",
        "arr4 = np.delete(arr, [0,2])    \n",
        "print(arr4)"
      ],
      "metadata": {
        "colab": {
          "base_uri": "https://localhost:8080/"
        },
        "id": "d2icI-L0Qdor",
        "outputId": "a188f5c3-fd00-4cd3-ed2d-5092639e7454"
      },
      "execution_count": null,
      "outputs": [
        {
          "output_type": "stream",
          "name": "stdout",
          "text": [
            "[2]\n"
          ]
        }
      ]
    },
    {
      "cell_type": "markdown",
      "source": [
        "copy an array"
      ],
      "metadata": {
        "id": "fJa09QPzQ06-"
      }
    },
    {
      "cell_type": "code",
      "source": [
        "# the following methods are all deep copy\n",
        "#In case of deep copy, \n",
        "#a copy of object is copied in other object.\n",
        "#It means that any changes made to a copy of object do not reflect in the original object. \n",
        "arr1 = np.copy(arr)\n",
        "# or \n",
        "arr1 = arr.copy()\n",
        "# or \n",
        "arr1 = np.array(arr, copy=True)"
      ],
      "metadata": {
        "id": "hAeHRtSUQvC5"
      },
      "execution_count": null,
      "outputs": []
    },
    {
      "cell_type": "markdown",
      "source": [
        "**swap axes**"
      ],
      "metadata": {
        "id": "H-GjEnQ5S3Pc"
      }
    },
    {
      "cell_type": "code",
      "source": [
        "arr1 = np.arange(16).reshape((2,2,4))\n",
        "print(arr1)\n",
        "print(arr1.shape)\n",
        "\n",
        "print('\\n ------------------------')\n",
        "\n",
        "A=arr1.swapaxes(1,2)\n",
        "print(A)\n",
        "print(A.shape)\n"
      ],
      "metadata": {
        "colab": {
          "base_uri": "https://localhost:8080/"
        },
        "id": "YzzZzUbqSsvZ",
        "outputId": "8db522c3-6680-4f8d-e0ac-ec7a2e848cb9"
      },
      "execution_count": null,
      "outputs": [
        {
          "output_type": "stream",
          "name": "stdout",
          "text": [
            "[[[ 0  1  2  3]\n",
            "  [ 4  5  6  7]]\n",
            "\n",
            " [[ 8  9 10 11]\n",
            "  [12 13 14 15]]]\n",
            "(2, 2, 4)\n",
            "\n",
            " ------------------------\n",
            "[[[ 0  4]\n",
            "  [ 1  5]\n",
            "  [ 2  6]\n",
            "  [ 3  7]]\n",
            "\n",
            " [[ 8 12]\n",
            "  [ 9 13]\n",
            "  [10 14]\n",
            "  [11 15]]]\n",
            "(2, 4, 2)\n"
          ]
        }
      ]
    },
    {
      "cell_type": "markdown",
      "source": [
        "transpose of a high dimensional array with specified order of axes"
      ],
      "metadata": {
        "id": "ZzZTSG5tTn99"
      }
    },
    {
      "cell_type": "code",
      "source": [
        "arr1 = np.arange(16).reshape((2,2,4))\n",
        "print(arr1)\n",
        "print('\\n ------------------------')\n",
        "arr1.transpose((1,0,2))\n"
      ],
      "metadata": {
        "colab": {
          "base_uri": "https://localhost:8080/"
        },
        "id": "aAbKU_-CTC_k",
        "outputId": "bf55ebf9-3a5e-412c-dde8-0e48e183ea1b"
      },
      "execution_count": null,
      "outputs": [
        {
          "output_type": "stream",
          "name": "stdout",
          "text": [
            "[[[ 0  1  2  3]\n",
            "  [ 4  5  6  7]]\n",
            "\n",
            " [[ 8  9 10 11]\n",
            "  [12 13 14 15]]]\n",
            "\n",
            " ------------------------\n"
          ]
        },
        {
          "output_type": "execute_result",
          "data": {
            "text/plain": [
              "array([[[ 0,  1,  2,  3],\n",
              "        [ 8,  9, 10, 11]],\n",
              "\n",
              "       [[ 4,  5,  6,  7],\n",
              "        [12, 13, 14, 15]]])"
            ]
          },
          "metadata": {},
          "execution_count": 258
        }
      ]
    },
    {
      "cell_type": "code",
      "source": [
        "arr1.transpose((2,1,0))"
      ],
      "metadata": {
        "colab": {
          "base_uri": "https://localhost:8080/"
        },
        "id": "xCbXQbuiTIyj",
        "outputId": "09d4249f-158f-4e64-c341-2201e0c555cd"
      },
      "execution_count": null,
      "outputs": [
        {
          "output_type": "execute_result",
          "data": {
            "text/plain": [
              "array([[[ 0,  8],\n",
              "        [ 4, 12]],\n",
              "\n",
              "       [[ 1,  9],\n",
              "        [ 5, 13]],\n",
              "\n",
              "       [[ 2, 10],\n",
              "        [ 6, 14]],\n",
              "\n",
              "       [[ 3, 11],\n",
              "        [ 7, 15]]])"
            ]
          },
          "metadata": {},
          "execution_count": 259
        }
      ]
    },
    {
      "cell_type": "code",
      "source": [
        ""
      ],
      "metadata": {
        "id": "EMWHFicfYeDt"
      },
      "execution_count": null,
      "outputs": []
    },
    {
      "cell_type": "markdown",
      "source": [
        "#**Combine & Split an Array**"
      ],
      "metadata": {
        "id": "RIvwOJuHgLTx"
      }
    },
    {
      "cell_type": "code",
      "source": [
        "arr1 = np.array([[1,2,3,4], [1,2,3,4]])\n",
        "arr2 = np.array([[5,6,7,8], [5,6,7,8]])"
      ],
      "metadata": {
        "id": "4tY2uaYFgNr3"
      },
      "execution_count": null,
      "outputs": []
    },
    {
      "cell_type": "code",
      "source": [
        "# concat along the row\n",
        "cat = np.concatenate((arr1, arr2), axis=0)        \n",
        "print(cat)"
      ],
      "metadata": {
        "colab": {
          "base_uri": "https://localhost:8080/"
        },
        "id": "hDiwbOzFgRPE",
        "outputId": "03db6e44-f9f6-4a92-d62c-555a352f3cbc"
      },
      "execution_count": null,
      "outputs": [
        {
          "output_type": "stream",
          "name": "stdout",
          "text": [
            "[[1 2 3 4]\n",
            " [1 2 3 4]\n",
            " [5 6 7 8]\n",
            " [5 6 7 8]]\n"
          ]
        }
      ]
    },
    {
      "cell_type": "code",
      "source": [
        "# concat along the column\n",
        "cat = np.concatenate((arr1, arr2), axis=1)    \n",
        "print(cat)"
      ],
      "metadata": {
        "colab": {
          "base_uri": "https://localhost:8080/"
        },
        "id": "zCXchCf4gS6p",
        "outputId": "aeab615f-70bf-424f-d581-0c45f80feea4"
      },
      "execution_count": null,
      "outputs": [
        {
          "output_type": "stream",
          "name": "stdout",
          "text": [
            "[[1 2 3 4 5 6 7 8]\n",
            " [1 2 3 4 5 6 7 8]]\n"
          ]
        }
      ]
    },
    {
      "cell_type": "code",
      "source": [
        "# stack arrays vertically\n",
        "cat = np.vstack((arr1, arr2))\n",
        "print(cat)\n",
        "print(\"\\n--------------------\")\n",
        "cat = np.r_[arr1, arr2]\n",
        "print(cat)"
      ],
      "metadata": {
        "colab": {
          "base_uri": "https://localhost:8080/"
        },
        "id": "-GyEw-c_gXbT",
        "outputId": "717c1f4f-b882-4af6-d86a-d1b5c3c2fdf4"
      },
      "execution_count": null,
      "outputs": [
        {
          "output_type": "stream",
          "name": "stdout",
          "text": [
            "[[1 2 3 4]\n",
            " [1 2 3 4]\n",
            " [5 6 7 8]\n",
            " [5 6 7 8]]\n",
            "\n",
            "--------------------\n",
            "[[1 2 3 4]\n",
            " [1 2 3 4]\n",
            " [5 6 7 8]\n",
            " [5 6 7 8]]\n"
          ]
        }
      ]
    },
    {
      "cell_type": "code",
      "source": [
        "# stack arrays horizontally\n",
        "cat = np.hstack((arr1, arr2))\n",
        "print(cat)\n",
        "\n",
        "print(\"\\n--------------------\")\n",
        "\n",
        "# stack arrays horizontally\n",
        "cat = np.c_[arr1, arr2]\n",
        "print(cat)"
      ],
      "metadata": {
        "colab": {
          "base_uri": "https://localhost:8080/"
        },
        "id": "1R6sAxZugymz",
        "outputId": "2692d2da-674b-4ad8-d7c7-3f4643f4024a"
      },
      "execution_count": null,
      "outputs": [
        {
          "output_type": "stream",
          "name": "stdout",
          "text": [
            "[[1 2 3 4 5 6 7 8]\n",
            " [1 2 3 4 5 6 7 8]]\n",
            "\n",
            "--------------------\n",
            "[[1 2 3 4 5 6 7 8]\n",
            " [1 2 3 4 5 6 7 8]]\n"
          ]
        }
      ]
    },
    {
      "cell_type": "markdown",
      "source": [
        "**split an array** "
      ],
      "metadata": {
        "id": "eWZQ1jPfhKYF"
      }
    },
    {
      "cell_type": "code",
      "source": [
        "arr = np.random.rand(4,4)\n",
        "arr"
      ],
      "metadata": {
        "colab": {
          "base_uri": "https://localhost:8080/"
        },
        "id": "x_r6zZogg-qw",
        "outputId": "1c7242a1-edaf-416e-95cc-ae9ba6e7dc2c"
      },
      "execution_count": null,
      "outputs": [
        {
          "output_type": "execute_result",
          "data": {
            "text/plain": [
              "array([[0.36571913, 0.53388598, 0.16201584, 0.59743311],\n",
              "       [0.29315247, 0.63205049, 0.02619661, 0.88759346],\n",
              "       [0.01611863, 0.12695803, 0.77716246, 0.04589523],\n",
              "       [0.71099869, 0.97104614, 0.87168293, 0.71016165]])"
            ]
          },
          "metadata": {},
          "execution_count": 271
        }
      ]
    },
    {
      "cell_type": "code",
      "source": [
        "# split the array vertically into n evenly spaced chunks\n",
        "arr1 = np.vsplit(arr,2)\n",
        "print(arr1)"
      ],
      "metadata": {
        "colab": {
          "base_uri": "https://localhost:8080/"
        },
        "id": "zGIKwcZuhOxN",
        "outputId": "23a4393a-8e78-4777-87dc-a5bef00d0ed3"
      },
      "execution_count": null,
      "outputs": [
        {
          "output_type": "stream",
          "name": "stdout",
          "text": [
            "[array([[0.36571913, 0.53388598, 0.16201584, 0.59743311],\n",
            "       [0.29315247, 0.63205049, 0.02619661, 0.88759346]]), array([[0.01611863, 0.12695803, 0.77716246, 0.04589523],\n",
            "       [0.71099869, 0.97104614, 0.87168293, 0.71016165]])]\n"
          ]
        }
      ]
    },
    {
      "cell_type": "code",
      "source": [
        "# split the array horizontally into n evenly spaced chunks\n",
        "arr2 = np.hsplit(arr,2)\n",
        "print(arr2)"
      ],
      "metadata": {
        "colab": {
          "base_uri": "https://localhost:8080/"
        },
        "id": "HpSi93LJhU8a",
        "outputId": "f51b64c2-5a00-4bee-97f6-0e03cd23d13e"
      },
      "execution_count": null,
      "outputs": [
        {
          "output_type": "stream",
          "name": "stdout",
          "text": [
            "[array([[0.36571913, 0.53388598],\n",
            "       [0.29315247, 0.63205049],\n",
            "       [0.01611863, 0.12695803],\n",
            "       [0.71099869, 0.97104614]]), array([[0.16201584, 0.59743311],\n",
            "       [0.02619661, 0.88759346],\n",
            "       [0.77716246, 0.04589523],\n",
            "       [0.87168293, 0.71016165]])]\n"
          ]
        }
      ]
    },
    {
      "cell_type": "markdown",
      "source": [
        "#**Set operation**"
      ],
      "metadata": {
        "id": "rO9l59Msm-8b"
      }
    },
    {
      "cell_type": "markdown",
      "source": [
        "select the unique elements from an array"
      ],
      "metadata": {
        "id": "SI4DbhZanNNO"
      }
    },
    {
      "cell_type": "code",
      "source": [
        "arr = np.array([1,1,2,2,3,3,4,5,6])\n",
        "print(np.unique(arr))"
      ],
      "metadata": {
        "colab": {
          "base_uri": "https://localhost:8080/"
        },
        "id": "lmHQ0NdgiWGn",
        "outputId": "b80b9c49-3194-41e4-97c2-798c1ab3b75c"
      },
      "execution_count": null,
      "outputs": [
        {
          "output_type": "stream",
          "name": "stdout",
          "text": [
            "[1 2 3 4 5 6]\n"
          ]
        }
      ]
    },
    {
      "cell_type": "code",
      "source": [
        "# return the number of times each unique item appears\n",
        "arr = np.array([1,1,2,2,3,3,4,5,6])\n",
        "uniques, counts = np.unique(arr, return_counts=True)\n",
        "print(uniques)\n",
        "print(counts)"
      ],
      "metadata": {
        "colab": {
          "base_uri": "https://localhost:8080/"
        },
        "id": "8NeJZwxlnGR8",
        "outputId": "f7386ed4-f153-4b33-b2b9-46976c624eb1"
      },
      "execution_count": null,
      "outputs": [
        {
          "output_type": "stream",
          "name": "stdout",
          "text": [
            "[1 2 3 4 5 6]\n",
            "[2 2 2 1 1 1]\n"
          ]
        }
      ]
    },
    {
      "cell_type": "markdown",
      "source": [
        "compute the intersection & union of two arrays"
      ],
      "metadata": {
        "id": "TCERxQBtnXXA"
      }
    },
    {
      "cell_type": "code",
      "source": [
        "arr1 = np.array([1,2,3,4,5])\n",
        "arr2 = np.array([3,4,5,6,7])"
      ],
      "metadata": {
        "id": "_5OaiRnpnIjf"
      },
      "execution_count": null,
      "outputs": []
    },
    {
      "cell_type": "code",
      "source": [
        "# intersection\n",
        "print(np.intersect1d(arr1, arr2))"
      ],
      "metadata": {
        "colab": {
          "base_uri": "https://localhost:8080/"
        },
        "id": "K-lkX0uLnazc",
        "outputId": "fb1d05ae-4162-4e80-dc40-2a7161bcdc20"
      },
      "execution_count": null,
      "outputs": [
        {
          "output_type": "stream",
          "name": "stdout",
          "text": [
            "[3 4 5]\n"
          ]
        }
      ]
    },
    {
      "cell_type": "code",
      "source": [
        "# union\n",
        "print(np.union1d(arr1, arr2))"
      ],
      "metadata": {
        "colab": {
          "base_uri": "https://localhost:8080/"
        },
        "id": "hVEPIA8uncU7",
        "outputId": "9b25d1ab-746b-4bfe-bd72-0185f9ad7b42"
      },
      "execution_count": null,
      "outputs": [
        {
          "output_type": "stream",
          "name": "stdout",
          "text": [
            "[1 2 3 4 5 6 7]\n"
          ]
        }
      ]
    },
    {
      "cell_type": "markdown",
      "source": [
        "compute whether each element of an array is contained in another"
      ],
      "metadata": {
        "id": "bhC6_SDRnkCQ"
      }
    },
    {
      "cell_type": "code",
      "source": [
        "print(np.in1d(arr1, arr2))"
      ],
      "metadata": {
        "colab": {
          "base_uri": "https://localhost:8080/"
        },
        "id": "9YA9zO2EneOK",
        "outputId": "eb6f4bd3-c0da-4b0c-fde1-c5e227575377"
      },
      "execution_count": null,
      "outputs": [
        {
          "output_type": "stream",
          "name": "stdout",
          "text": [
            "[False False  True  True  True]\n"
          ]
        }
      ]
    },
    {
      "cell_type": "markdown",
      "source": [
        "compute the elements in an array that are not in another"
      ],
      "metadata": {
        "id": "NJssJMtboHCm"
      }
    },
    {
      "cell_type": "code",
      "source": [
        "print(np.setdiff1d(arr1, arr2))# arr2 و مش في arr1 بجيب الحاجات الي موجوده ف "
      ],
      "metadata": {
        "colab": {
          "base_uri": "https://localhost:8080/"
        },
        "id": "xV1fhiHSn9hK",
        "outputId": "7b71f899-5b6b-4382-b675-6fb75c4c2b29"
      },
      "execution_count": null,
      "outputs": [
        {
          "output_type": "stream",
          "name": "stdout",
          "text": [
            "[1 2]\n"
          ]
        }
      ]
    },
    {
      "cell_type": "markdown",
      "source": [
        "compute the elements in either of two arrays, but not both"
      ],
      "metadata": {
        "id": "tEhJ4XBHoKTS"
      }
    },
    {
      "cell_type": "code",
      "source": [
        "print(np.setxor1d(arr1, arr2))#بعد ما جبت الحاجات الي مش موجوده ف الarr1و arr2 و بعملهم union "
      ],
      "metadata": {
        "colab": {
          "base_uri": "https://localhost:8080/"
        },
        "id": "_Xh8NShpoJvo",
        "outputId": "90a8d92e-07b3-4540-eb4d-ff4dc6d88714"
      },
      "execution_count": null,
      "outputs": [
        {
          "output_type": "stream",
          "name": "stdout",
          "text": [
            "[1 2 6 7]\n"
          ]
        }
      ]
    },
    {
      "cell_type": "code",
      "source": [
        ""
      ],
      "metadata": {
        "id": "zZjCu5R0oP5K"
      },
      "execution_count": null,
      "outputs": []
    }
  ]
}